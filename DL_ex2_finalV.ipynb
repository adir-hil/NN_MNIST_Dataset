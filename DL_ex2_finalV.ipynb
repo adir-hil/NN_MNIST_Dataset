{
 "cells": [
  {
   "cell_type": "markdown",
   "metadata": {
    "id": "Sxf0B2CYf9zH"
   },
   "source": [
    "# **Submitted by:**\n",
    "**- Adir Hilvert 039070842**<br>\n",
    "**- Ogen Drukerman 307574905**"
   ]
  },
  {
   "cell_type": "code",
   "execution_count": 1,
   "metadata": {
    "colab": {
     "base_uri": "https://localhost:8080/"
    },
    "id": "Ljb_U_8Ju5s9",
    "outputId": "ebee8925-5fdc-4dee-a345-118cbff95014"
   },
   "outputs": [
    {
     "name": "stdout",
     "output_type": "stream",
     "text": [
      "2.7.0\n"
     ]
    }
   ],
   "source": [
    "# TensorFlow and tf.keras\n",
    "import tensorflow as tf\n",
    "\n",
    "# Helper libraries\n",
    "import numpy as np\n",
    "import matplotlib.pyplot as plt\n",
    "\n",
    "#import copy library to handle seperate copies of weight matrices\n",
    "import copy\n",
    "\n",
    "print(tf.__version__)"
   ]
  },
  {
   "cell_type": "code",
   "execution_count": 2,
   "metadata": {
    "id": "S7Ca9rTHxwvF"
   },
   "outputs": [],
   "source": [
    "import warnings\n",
    "warnings.filterwarnings(\"ignore\")"
   ]
  },
  {
   "cell_type": "markdown",
   "metadata": {
    "id": "0e8ZBn2Uvog1"
   },
   "source": [
    "# **Question 1:**"
   ]
  },
  {
   "cell_type": "markdown",
   "metadata": {
    "id": "egXPX0SQwfzX"
   },
   "source": [
    "**Import fashion mnist dataset**"
   ]
  },
  {
   "cell_type": "code",
   "execution_count": 3,
   "metadata": {
    "colab": {
     "base_uri": "https://localhost:8080/"
    },
    "id": "sADT-GSwvjhJ",
    "outputId": "ad89b85e-205e-4c7b-c397-e4deb7bb93dc"
   },
   "outputs": [
    {
     "name": "stdout",
     "output_type": "stream",
     "text": [
      "Downloading data from https://storage.googleapis.com/tensorflow/tf-keras-datasets/train-labels-idx1-ubyte.gz\n",
      "32768/29515 [=================================] - 0s 0us/step\n",
      "40960/29515 [=========================================] - 0s 0us/step\n",
      "Downloading data from https://storage.googleapis.com/tensorflow/tf-keras-datasets/train-images-idx3-ubyte.gz\n",
      "26427392/26421880 [==============================] - 1s 0us/step\n",
      "26435584/26421880 [==============================] - 1s 0us/step\n",
      "Downloading data from https://storage.googleapis.com/tensorflow/tf-keras-datasets/t10k-labels-idx1-ubyte.gz\n",
      "16384/5148 [===============================================================================================] - 0s 0us/step\n",
      "Downloading data from https://storage.googleapis.com/tensorflow/tf-keras-datasets/t10k-images-idx3-ubyte.gz\n",
      "4423680/4422102 [==============================] - 0s 0us/step\n",
      "4431872/4422102 [==============================] - 0s 0us/step\n"
     ]
    }
   ],
   "source": [
    "fashion_mnist = tf.keras.datasets.fashion_mnist\n",
    "\n",
    "(fash_train_images, fash_train_labels), (fash_test_images, fash_test_labels) = fashion_mnist.load_data()"
   ]
  },
  {
   "cell_type": "code",
   "execution_count": 4,
   "metadata": {
    "id": "X7-lrAwTwlU4"
   },
   "outputs": [],
   "source": [
    "fash_class_names = ['T-shirt/top', 'Trouser', 'Pullover', 'Dress', 'Coat',\n",
    "               'Sandal', 'Shirt', 'Sneaker', 'Bag', 'Ankle boot']"
   ]
  },
  {
   "cell_type": "markdown",
   "metadata": {
    "id": "PJ-FTuQfxYyl"
   },
   "source": [
    "**Exploring the data**"
   ]
  },
  {
   "cell_type": "code",
   "execution_count": 5,
   "metadata": {
    "colab": {
     "base_uri": "https://localhost:8080/"
    },
    "id": "Xq9QkEUow_Ro",
    "outputId": "43745c18-22ef-4fd2-c302-ae375de5552c"
   },
   "outputs": [
    {
     "data": {
      "text/plain": [
       "(60000, 28, 28)"
      ]
     },
     "execution_count": 5,
     "metadata": {},
     "output_type": "execute_result"
    }
   ],
   "source": [
    "fash_train_images.shape"
   ]
  },
  {
   "cell_type": "code",
   "execution_count": 6,
   "metadata": {
    "colab": {
     "base_uri": "https://localhost:8080/"
    },
    "id": "QQq2pPtaxEtI",
    "outputId": "b2b65112-c347-4642-9b9d-181f1f029f88"
   },
   "outputs": [
    {
     "data": {
      "text/plain": [
       "60000"
      ]
     },
     "execution_count": 6,
     "metadata": {},
     "output_type": "execute_result"
    }
   ],
   "source": [
    "len(fash_train_labels)"
   ]
  },
  {
   "cell_type": "code",
   "execution_count": 7,
   "metadata": {
    "colab": {
     "base_uri": "https://localhost:8080/"
    },
    "id": "zVoTU2x8xSKY",
    "outputId": "a525efad-e95d-4aa8-91db-de87b2e3235b"
   },
   "outputs": [
    {
     "data": {
      "text/plain": [
       "array([9, 0, 0, ..., 3, 0, 5], dtype=uint8)"
      ]
     },
     "execution_count": 7,
     "metadata": {},
     "output_type": "execute_result"
    }
   ],
   "source": [
    "fash_train_labels"
   ]
  },
  {
   "cell_type": "code",
   "execution_count": 8,
   "metadata": {
    "colab": {
     "base_uri": "https://localhost:8080/"
    },
    "id": "Fz8UVUO2xkN4",
    "outputId": "4e70fd60-f9a8-4323-a826-c551cec254f1"
   },
   "outputs": [
    {
     "data": {
      "text/plain": [
       "10000"
      ]
     },
     "execution_count": 8,
     "metadata": {},
     "output_type": "execute_result"
    }
   ],
   "source": [
    "len(fash_test_labels)"
   ]
  },
  {
   "cell_type": "code",
   "execution_count": 9,
   "metadata": {
    "colab": {
     "base_uri": "https://localhost:8080/",
     "height": 265
    },
    "id": "g1LBTeXFyD7q",
    "outputId": "55f244da-8fe9-4bc8-b782-4821655c763d"
   },
   "outputs": [
    {
     "data": {
      "image/png": "[encoded data removed]",
      "text/plain": [
       "<Figure size 432x288 with 2 Axes>"
      ]
     },
     "metadata": {
      "needs_background": "light"
     },
     "output_type": "display_data"
    }
   ],
   "source": [
    "plt.figure()\n",
    "plt.imshow(fash_train_images[0])\n",
    "plt.colorbar()\n",
    "plt.grid(False)\n",
    "plt.show()"
   ]
  },
  {
   "cell_type": "markdown",
   "metadata": {
    "id": "-lpsMrjiyBR8"
   },
   "source": [
    "**Preprocessing**"
   ]
  },
  {
   "cell_type": "code",
   "execution_count": 10,
   "metadata": {
    "id": "FoIHxwIqyhon"
   },
   "outputs": [],
   "source": [
    "# Scaling from 0-255 to 0-1\n",
    "\n",
    "fash_train_images = fash_train_images / 255.0\n",
    "\n",
    "fash_test_images = fash_test_images / 255.0"
   ]
  },
  {
   "cell_type": "markdown",
   "metadata": {
    "id": "rsqx5Wrt4K-x"
   },
   "source": [
    "**Displaying first 25 images from the dataset**"
   ]
  },
  {
   "cell_type": "code",
   "execution_count": 11,
   "metadata": {
    "colab": {
     "base_uri": "https://localhost:8080/",
     "height": 589
    },
    "id": "lfNKn3UZ4ExX",
    "outputId": "35cb3040-b980-4246-8657-ed759e01d1aa"
   },
   "outputs": [
    {
     "data": {
      "image/png": "[encoded data removed]",
      "text/plain": [
       "<Figure size 720x720 with 25 Axes>"
      ]
     },
     "metadata": {},
     "output_type": "display_data"
    }
   ],
   "source": [
    "plt.figure(figsize=(10,10))\n",
    "for i in range(25):\n",
    "    plt.subplot(5,5,i+1)\n",
    "    plt.xticks([])\n",
    "    plt.yticks([])\n",
    "    plt.grid(False)\n",
    "    plt.imshow(fash_train_images[i], cmap=plt.cm.binary)\n",
    "    plt.xlabel(fash_class_names[fash_train_labels[i]])\n",
    "plt.show()"
   ]
  },
  {
   "cell_type": "markdown",
   "metadata": {
    "id": "lTYci6jH4edp"
   },
   "source": [
    "**Building the model**"
   ]
  },
  {
   "cell_type": "code",
   "execution_count": 12,
   "metadata": {
    "id": "l-bYSScZ4daX"
   },
   "outputs": [],
   "source": [
    "mnist_fashion_model = tf.keras.Sequential([\n",
    "    tf.keras.layers.Flatten(input_shape=(28, 28)),\n",
    "    tf.keras.layers.Dense(128, activation='relu'),\n",
    "    tf.keras.layers.Dense(10)\n",
    "])"
   ]
  },
  {
   "cell_type": "markdown",
   "metadata": {
    "id": "qLkKMN_65mFm"
   },
   "source": [
    "**Compiling the model**"
   ]
  },
  {
   "cell_type": "code",
   "execution_count": 13,
   "metadata": {
    "id": "wobOGKFt5hmV"
   },
   "outputs": [],
   "source": [
    "mnist_fashion_model.compile(optimizer='adam',\n",
    "              loss=tf.keras.losses.SparseCategoricalCrossentropy(from_logits=True),\n",
    "              metrics=['accuracy'])"
   ]
  },
  {
   "cell_type": "markdown",
   "metadata": {
    "id": "tmwTJ4lM6PuZ"
   },
   "source": [
    "**Training the model**"
   ]
  },
  {
   "cell_type": "code",
   "execution_count": 14,
   "metadata": {
    "colab": {
     "base_uri": "https://localhost:8080/"
    },
    "id": "KCiDo9DO5_X3",
    "outputId": "59adc9a0-ce0b-4f73-d594-75e07b006809"
   },
   "outputs": [
    {
     "name": "stdout",
     "output_type": "stream",
     "text": [
      "Epoch 1/10\n",
      "1875/1875 [==============================] - 5s 2ms/step - loss: 0.5019 - accuracy: 0.8223\n",
      "Epoch 2/10\n",
      "1875/1875 [==============================] - 4s 2ms/step - loss: 0.3774 - accuracy: 0.8655\n",
      "Epoch 3/10\n",
      "1875/1875 [==============================] - 4s 2ms/step - loss: 0.3372 - accuracy: 0.8767\n",
      "Epoch 4/10\n",
      "1875/1875 [==============================] - 4s 2ms/step - loss: 0.3149 - accuracy: 0.8854\n",
      "Epoch 5/10\n",
      "1875/1875 [==============================] - 4s 2ms/step - loss: 0.2972 - accuracy: 0.8901\n",
      "Epoch 6/10\n",
      "1875/1875 [==============================] - 4s 2ms/step - loss: 0.2847 - accuracy: 0.8957\n",
      "Epoch 7/10\n",
      "1875/1875 [==============================] - 4s 2ms/step - loss: 0.2711 - accuracy: 0.8989\n",
      "Epoch 8/10\n",
      "1875/1875 [==============================] - 4s 2ms/step - loss: 0.2596 - accuracy: 0.9033\n",
      "Epoch 9/10\n",
      "1875/1875 [==============================] - 4s 2ms/step - loss: 0.2502 - accuracy: 0.9067\n",
      "Epoch 10/10\n",
      "1875/1875 [==============================] - 4s 2ms/step - loss: 0.2410 - accuracy: 0.9087\n"
     ]
    },
    {
     "data": {
      "text/plain": [
       "<keras.callbacks.History at 0x7f3388e33ed0>"
      ]
     },
     "execution_count": 14,
     "metadata": {},
     "output_type": "execute_result"
    }
   ],
   "source": [
    "mnist_fashion_model.fit(fash_train_images, fash_train_labels, epochs=10)"
   ]
  },
  {
   "cell_type": "markdown",
   "metadata": {
    "id": "_BxzMAX96tGB"
   },
   "source": [
    "**Evaluating the model**"
   ]
  },
  {
   "cell_type": "code",
   "execution_count": 15,
   "metadata": {
    "colab": {
     "base_uri": "https://localhost:8080/"
    },
    "id": "3SRB-BrW6UVW",
    "outputId": "9e7f0534-83a8-4e43-af52-5bb9a515b46d"
   },
   "outputs": [
    {
     "name": "stdout",
     "output_type": "stream",
     "text": [
      "313/313 - 1s - loss: 0.3255 - accuracy: 0.8849 - 836ms/epoch - 3ms/step\n",
      "\n",
      "Test accuracy: 0.8848999738693237\n"
     ]
    }
   ],
   "source": [
    "test_loss, test_acc = mnist_fashion_model.evaluate(fash_test_images,  fash_test_labels, verbose=2)\n",
    "\n",
    "print('\\nTest accuracy:', test_acc)"
   ]
  },
  {
   "cell_type": "markdown",
   "metadata": {
    "id": "ntypyBIn7gFS"
   },
   "source": [
    "**Making predictions**"
   ]
  },
  {
   "cell_type": "code",
   "execution_count": 16,
   "metadata": {
    "colab": {
     "base_uri": "https://localhost:8080/"
    },
    "id": "au33bPlJ7DnH",
    "outputId": "f51532d0-dea1-4c37-ac3f-f0ac939e6a0c"
   },
   "outputs": [
    {
     "data": {
      "text/plain": [
       "array([1.02751858e-06, 2.48915932e-13, 1.06973586e-08, 1.24796536e-11,\n",
       "       1.20970283e-08, 6.26929163e-04, 1.24859170e-07, 4.70899837e-03,\n",
       "       5.57605411e-08, 9.94662881e-01], dtype=float32)"
      ]
     },
     "execution_count": 16,
     "metadata": {},
     "output_type": "execute_result"
    }
   ],
   "source": [
    "probability_model_fashion = tf.keras.Sequential([mnist_fashion_model, \n",
    "                                         tf.keras.layers.Softmax()])\n",
    "\n",
    "fash_predictions = probability_model_fashion.predict(fash_test_images)\n",
    "fash_predictions[0]"
   ]
  },
  {
   "cell_type": "code",
   "execution_count": 17,
   "metadata": {
    "colab": {
     "base_uri": "https://localhost:8080/"
    },
    "id": "LlmeX1Po8ISW",
    "outputId": "ca264913-c39e-4fde-cbca-e2dceb50352c"
   },
   "outputs": [
    {
     "data": {
      "text/plain": [
       "9"
      ]
     },
     "execution_count": 17,
     "metadata": {},
     "output_type": "execute_result"
    }
   ],
   "source": [
    "np.argmax(fash_predictions[0])"
   ]
  },
  {
   "cell_type": "code",
   "execution_count": 18,
   "metadata": {
    "colab": {
     "base_uri": "https://localhost:8080/"
    },
    "id": "ITczUECO8SEG",
    "outputId": "56cd1958-71a5-4073-e554-18e36b56383a"
   },
   "outputs": [
    {
     "data": {
      "text/plain": [
       "9"
      ]
     },
     "execution_count": 18,
     "metadata": {},
     "output_type": "execute_result"
    }
   ],
   "source": [
    "fash_test_labels[0]"
   ]
  },
  {
   "cell_type": "code",
   "execution_count": 19,
   "metadata": {
    "id": "9w4RXw_W8VgF"
   },
   "outputs": [],
   "source": [
    "def plot_image(i, predictions_array, true_label, img):\n",
    "  true_label, img = true_label[i], img[i]\n",
    "  plt.grid(False)\n",
    "  plt.xticks([])\n",
    "  plt.yticks([])\n",
    "\n",
    "  plt.imshow(img, cmap=plt.cm.binary)\n",
    "\n",
    "  predicted_label = np.argmax(predictions_array)\n",
    "  if predicted_label == true_label:\n",
    "    color = 'blue'\n",
    "  else:\n",
    "    color = 'red'\n",
    "\n",
    "  plt.xlabel(\"{} {:2.0f}% ({})\".format(fash_class_names[predicted_label],\n",
    "                                100*np.max(predictions_array),\n",
    "                                fash_class_names[true_label]),\n",
    "                                color=color)\n",
    "\n",
    "def plot_value_array(i, predictions_array, true_label):\n",
    "  true_label = true_label[i]\n",
    "  plt.grid(False)\n",
    "  plt.xticks(range(10))\n",
    "  plt.yticks([])\n",
    "  thisplot = plt.bar(range(10), predictions_array, color=\"#777777\")\n",
    "  plt.ylim([0, 1])\n",
    "  predicted_label = np.argmax(predictions_array)\n",
    "\n",
    "  thisplot[predicted_label].set_color('red')\n",
    "  thisplot[true_label].set_color('blue')"
   ]
  },
  {
   "cell_type": "code",
   "execution_count": 20,
   "metadata": {
    "colab": {
     "base_uri": "https://localhost:8080/",
     "height": 211
    },
    "id": "-EXtb6Ax86Hl",
    "outputId": "6d94e896-8c6a-48d4-e178-e3c655090482"
   },
   "outputs": [
    {
     "data": {
      "image/png": "[encoded data removed]",
      "text/plain": [
       "<Figure size 432x216 with 2 Axes>"
      ]
     },
     "metadata": {
      "needs_background": "light"
     },
     "output_type": "display_data"
    }
   ],
   "source": [
    "i = 0\n",
    "plt.figure(figsize=(6,3))\n",
    "plt.subplot(1,2,1)\n",
    "plot_image(i, fash_predictions[i], fash_test_labels, fash_test_images)\n",
    "plt.subplot(1,2,2)\n",
    "plot_value_array(i, fash_predictions[i],  fash_test_labels)\n",
    "plt.show()"
   ]
  },
  {
   "cell_type": "code",
   "execution_count": 21,
   "metadata": {
    "colab": {
     "base_uri": "https://localhost:8080/",
     "height": 211
    },
    "id": "bl8o_83F9RlF",
    "outputId": "8df8e3c2-c2a9-49f3-e74d-753accfe3185"
   },
   "outputs": [
    {
     "data": {
      "image/png": "[encoded data removed]",
      "text/plain": [
       "<Figure size 432x216 with 2 Axes>"
      ]
     },
     "metadata": {
      "needs_background": "light"
     },
     "output_type": "display_data"
    }
   ],
   "source": [
    "i = 12\n",
    "plt.figure(figsize=(6,3))\n",
    "plt.subplot(1,2,1)\n",
    "plot_image(i, fash_predictions[i], fash_test_labels, fash_test_images)\n",
    "plt.subplot(1,2,2)\n",
    "plot_value_array(i, fash_predictions[i],  fash_test_labels)\n",
    "plt.show()"
   ]
  },
  {
   "cell_type": "code",
   "execution_count": 22,
   "metadata": {
    "colab": {
     "base_uri": "https://localhost:8080/",
     "height": 729
    },
    "id": "QaYi5FZc9cbl",
    "outputId": "1c2e5c5a-4970-4071-ac1f-82f4b8ff9f3d"
   },
   "outputs": [
    {
     "data": {
      "image/png": "[encoded data removed]",
      "text/plain": [
       "<Figure size 864x720 with 30 Axes>"
      ]
     },
     "metadata": {
      "needs_background": "light"
     },
     "output_type": "display_data"
    }
   ],
   "source": [
    "# Plot the first X test images, their predicted labels, and the true labels.\n",
    "# Color correct predictions in blue and incorrect predictions in red.\n",
    "num_rows = 5\n",
    "num_cols = 3\n",
    "num_images = num_rows*num_cols\n",
    "plt.figure(figsize=(2*2*num_cols, 2*num_rows))\n",
    "for i in range(num_images):\n",
    "  plt.subplot(num_rows, 2*num_cols, 2*i+1)\n",
    "  plot_image(i, fash_predictions[i], fash_test_labels, fash_test_images)\n",
    "  plt.subplot(num_rows, 2*num_cols, 2*i+2)\n",
    "  plot_value_array(i, fash_predictions[i], fash_test_labels)\n",
    "plt.tight_layout()\n",
    "plt.show()"
   ]
  },
  {
   "cell_type": "code",
   "execution_count": 23,
   "metadata": {
    "colab": {
     "base_uri": "https://localhost:8080/"
    },
    "id": "w14M70oh-EGn",
    "outputId": "11c3ca30-14bb-4068-a457-21f30c4c0849"
   },
   "outputs": [
    {
     "name": "stdout",
     "output_type": "stream",
     "text": [
      "(28, 28)\n"
     ]
    }
   ],
   "source": [
    "# Grab an image from the test dataset.\n",
    "\n",
    "fash_img = fash_test_images[1]\n",
    "\n",
    "print(fash_img.shape)"
   ]
  },
  {
   "cell_type": "code",
   "execution_count": 24,
   "metadata": {
    "colab": {
     "base_uri": "https://localhost:8080/"
    },
    "id": "MRL1nXa9_Gg1",
    "outputId": "5ec888b4-7de3-47b3-ec1e-9c87f1cfcb9d"
   },
   "outputs": [
    {
     "name": "stdout",
     "output_type": "stream",
     "text": [
      "(1, 28, 28)\n"
     ]
    }
   ],
   "source": [
    "# Add the image to a batch where it's the only member.\n",
    "\n",
    "fash_img = (np.expand_dims(fash_img,0))\n",
    "\n",
    "print(fash_img.shape)"
   ]
  },
  {
   "cell_type": "code",
   "execution_count": 25,
   "metadata": {
    "colab": {
     "base_uri": "https://localhost:8080/"
    },
    "id": "GaZjO7uH_OCF",
    "outputId": "920efee8-0b78-41e8-af4f-853421033b27"
   },
   "outputs": [
    {
     "name": "stdout",
     "output_type": "stream",
     "text": [
      "[[5.7167963e-05 1.5068320e-13 9.9936026e-01 2.2933723e-12 4.3137337e-04\n",
      "  5.0988550e-11 1.5119418e-04 5.0394361e-17 9.8730268e-09 2.6005248e-13]]\n"
     ]
    }
   ],
   "source": [
    "predictions_single = probability_model_fashion.predict(fash_img)\n",
    "\n",
    "print(predictions_single)"
   ]
  },
  {
   "cell_type": "code",
   "execution_count": 26,
   "metadata": {
    "colab": {
     "base_uri": "https://localhost:8080/",
     "height": 300
    },
    "id": "QiO5i1n8_jx0",
    "outputId": "0990c343-6c66-402c-bd7e-e744541f1857"
   },
   "outputs": [
    {
     "data": {
      "image/png": "[encoded data removed]",
      "text/plain": [
       "<Figure size 432x288 with 1 Axes>"
      ]
     },
     "metadata": {
      "needs_background": "light"
     },
     "output_type": "display_data"
    }
   ],
   "source": [
    "plot_value_array(1, predictions_single[0], fash_test_labels)\n",
    "_ = plt.xticks(range(10), fash_class_names, rotation=45)\n",
    "plt.show()"
   ]
  },
  {
   "cell_type": "code",
   "execution_count": 27,
   "metadata": {
    "colab": {
     "base_uri": "https://localhost:8080/"
    },
    "id": "QGgD-hrL_mf0",
    "outputId": "496e882c-6db1-4469-f7fb-253643f552b6"
   },
   "outputs": [
    {
     "data": {
      "text/plain": [
       "2"
      ]
     },
     "execution_count": 27,
     "metadata": {},
     "output_type": "execute_result"
    }
   ],
   "source": [
    "np.argmax(predictions_single[0])"
   ]
  },
  {
   "cell_type": "markdown",
   "metadata": {
    "id": "iuEKKWASgS5z"
   },
   "source": [
    "# **Question 2:**"
   ]
  },
  {
   "cell_type": "code",
   "execution_count": 28,
   "metadata": {
    "colab": {
     "base_uri": "https://localhost:8080/"
    },
    "id": "dZGdYConK8aN",
    "outputId": "89ee4d66-5ee1-474b-ad25-fa319cda35e2"
   },
   "outputs": [
    {
     "name": "stdout",
     "output_type": "stream",
     "text": [
      "Downloading data from https://storage.googleapis.com/tensorflow/tf-keras-datasets/mnist.npz\n",
      "11493376/11490434 [==============================] - 0s 0us/step\n",
      "11501568/11490434 [==============================] - 0s 0us/step\n"
     ]
    }
   ],
   "source": [
    "mnist = tf.keras.datasets.mnist\n",
    "\n",
    "(dig_train_images, dig_train_labels), (dig_test_images, dig_test_labels) = mnist.load_data()"
   ]
  },
  {
   "cell_type": "code",
   "execution_count": 29,
   "metadata": {
    "id": "tJQCYmEtUpP-"
   },
   "outputs": [],
   "source": [
    "dig_class_names = ['Zero', 'One', 'Two', 'Three', 'Four',\n",
    "               'five', 'six', 'Seven', 'Eight', 'Nine']"
   ]
  },
  {
   "cell_type": "code",
   "execution_count": 30,
   "metadata": {
    "colab": {
     "base_uri": "https://localhost:8080/",
     "height": 265
    },
    "id": "su55Gm_YVU-9",
    "outputId": "663cf2ea-bedf-4e1f-c38a-9f85c2638a60"
   },
   "outputs": [
    {
     "data": {
      "image/png": "[encoded data removed]",
      "text/plain": [
       "<Figure size 432x288 with 2 Axes>"
      ]
     },
     "metadata": {
      "needs_background": "light"
     },
     "output_type": "display_data"
    }
   ],
   "source": [
    "plt.figure()\n",
    "plt.imshow(dig_train_images[0])\n",
    "plt.colorbar()\n",
    "plt.grid(False)\n",
    "plt.show()"
   ]
  },
  {
   "cell_type": "markdown",
   "metadata": {
    "id": "gRiwcNnMWA_V"
   },
   "source": [
    "**Preprocessing**"
   ]
  },
  {
   "cell_type": "code",
   "execution_count": 31,
   "metadata": {
    "id": "I0bEY6APVwMN"
   },
   "outputs": [],
   "source": [
    "# Scaling from 0-255 to 0-1\n",
    "\n",
    "dig_train_images = dig_train_images / 255.0\n",
    "\n",
    "dig_test_images = dig_test_images / 255.0"
   ]
  },
  {
   "cell_type": "markdown",
   "metadata": {
    "id": "YW6wbMqz3Pc8"
   },
   "source": [
    "**Creating the digit mnist model**"
   ]
  },
  {
   "cell_type": "code",
   "execution_count": 32,
   "metadata": {
    "id": "1kmRUOhE3DZm"
   },
   "outputs": [],
   "source": [
    "mnist_digit_model = tf.keras.Sequential([\n",
    "    tf.keras.layers.Flatten(input_shape=(28, 28)),\n",
    "    tf.keras.layers.Dense(128, activation='relu'),\n",
    "    tf.keras.layers.Dense(10)\n",
    "])"
   ]
  },
  {
   "cell_type": "code",
   "execution_count": 33,
   "metadata": {
    "id": "FColWOsqxwvV"
   },
   "outputs": [],
   "source": [
    "mnist_digit_model.compile(optimizer='adam',\n",
    "              loss=tf.keras.losses.SparseCategoricalCrossentropy(from_logits=True),\n",
    "              metrics=['accuracy'])"
   ]
  },
  {
   "cell_type": "markdown",
   "metadata": {
    "id": "XDESxemMXcrE"
   },
   "source": [
    "**Training the model**"
   ]
  },
  {
   "cell_type": "code",
   "execution_count": 34,
   "metadata": {
    "colab": {
     "base_uri": "https://localhost:8080/"
    },
    "id": "jmPZzD2GWFdO",
    "outputId": "45d24cdb-a1b0-414c-a23e-d25b3e2df013"
   },
   "outputs": [
    {
     "name": "stdout",
     "output_type": "stream",
     "text": [
      "Epoch 1/10\n",
      "1875/1875 [==============================] - 4s 2ms/step - loss: 0.2563 - accuracy: 0.9269\n",
      "Epoch 2/10\n",
      "1875/1875 [==============================] - 4s 2ms/step - loss: 0.1136 - accuracy: 0.9661\n",
      "Epoch 3/10\n",
      "1875/1875 [==============================] - 4s 2ms/step - loss: 0.0786 - accuracy: 0.9762\n",
      "Epoch 4/10\n",
      "1875/1875 [==============================] - 4s 2ms/step - loss: 0.0579 - accuracy: 0.9827\n",
      "Epoch 5/10\n",
      "1875/1875 [==============================] - 4s 2ms/step - loss: 0.0445 - accuracy: 0.9863\n",
      "Epoch 6/10\n",
      "1875/1875 [==============================] - 4s 2ms/step - loss: 0.0357 - accuracy: 0.9890\n",
      "Epoch 7/10\n",
      "1875/1875 [==============================] - 4s 2ms/step - loss: 0.0279 - accuracy: 0.9915\n",
      "Epoch 8/10\n",
      "1875/1875 [==============================] - 4s 2ms/step - loss: 0.0237 - accuracy: 0.9925\n",
      "Epoch 9/10\n",
      "1875/1875 [==============================] - 4s 2ms/step - loss: 0.0182 - accuracy: 0.9945\n",
      "Epoch 10/10\n",
      "1875/1875 [==============================] - 4s 2ms/step - loss: 0.0153 - accuracy: 0.9953\n"
     ]
    },
    {
     "data": {
      "text/plain": [
       "<keras.callbacks.History at 0x7f338c829750>"
      ]
     },
     "execution_count": 34,
     "metadata": {},
     "output_type": "execute_result"
    }
   ],
   "source": [
    "mnist_digit_model.fit(dig_train_images, dig_train_labels, epochs=10)"
   ]
  },
  {
   "cell_type": "markdown",
   "metadata": {
    "id": "yPtEykqZXjQU"
   },
   "source": [
    "**Evaluating the model**"
   ]
  },
  {
   "cell_type": "code",
   "execution_count": 35,
   "metadata": {
    "colab": {
     "base_uri": "https://localhost:8080/"
    },
    "id": "sdlmJmLpXjQU",
    "outputId": "3a7b625c-691d-4015-d4cb-4e1a103740b0"
   },
   "outputs": [
    {
     "name": "stdout",
     "output_type": "stream",
     "text": [
      "313/313 - 0s - loss: 0.0790 - accuracy: 0.9791 - 471ms/epoch - 2ms/step\n",
      "\n",
      "Test accuracy: 0.9790999889373779\n"
     ]
    }
   ],
   "source": [
    "test_loss, test_acc = mnist_digit_model.evaluate(dig_test_images,  dig_test_labels, verbose=2)\n",
    "\n",
    "print('\\nTest accuracy:', test_acc)"
   ]
  },
  {
   "cell_type": "code",
   "execution_count": 36,
   "metadata": {
    "id": "AjyyoleVQijT"
   },
   "outputs": [],
   "source": [
    "dig_probability_model = tf.keras.Sequential([mnist_digit_model, \n",
    "                                         tf.keras.layers.Softmax()])\n",
    "\n",
    "dig_predictions = dig_probability_model.predict(dig_test_images)"
   ]
  },
  {
   "cell_type": "code",
   "execution_count": 37,
   "metadata": {
    "colab": {
     "base_uri": "https://localhost:8080/",
     "height": 729
    },
    "id": "wA3GoHIBXmTB",
    "outputId": "20a70273-11aa-406d-9005-683f5811c55e"
   },
   "outputs": [
    {
     "data": {
      "image/png": "[encoded data removed]",
      "text/plain": [
       "<Figure size 864x720 with 30 Axes>"
      ]
     },
     "metadata": {
      "needs_background": "light"
     },
     "output_type": "display_data"
    }
   ],
   "source": [
    "# Plot the first X test images, their predicted labels, and the true labels.\n",
    "# Color correct predictions in blue and incorrect predictions in red.\n",
    "num_rows = 5\n",
    "num_cols = 3\n",
    "num_images = num_rows*num_cols\n",
    "plt.figure(figsize=(2*2*num_cols, 2*num_rows))\n",
    "for i in range(num_images):\n",
    "  plt.subplot(num_rows, 2*num_cols, 2*i+1)\n",
    "  plot_image(i, dig_predictions[i], dig_test_labels, dig_test_images)\n",
    "  plt.subplot(num_rows, 2*num_cols, 2*i+2)\n",
    "  plot_value_array(i, dig_predictions[i], dig_test_labels)\n",
    "plt.tight_layout()\n",
    "plt.show()"
   ]
  },
  {
   "cell_type": "markdown",
   "metadata": {
    "id": "7OmR1EHgxwvW"
   },
   "source": [
    "# **Question 3:**"
   ]
  },
  {
   "cell_type": "markdown",
   "metadata": {
    "id": "8UHeZN52zpBv"
   },
   "source": [
    "**Modifiying the model and reporting accuracy**<br>\n",
    "(We chose to modify the mnist fashion model due to its lower accuracy)"
   ]
  },
  {
   "cell_type": "markdown",
   "metadata": {
    "id": "9ijJ4r3GB4_p"
   },
   "source": [
    "*The orginal architechture:*"
   ]
  },
  {
   "cell_type": "code",
   "execution_count": 38,
   "metadata": {
    "colab": {
     "base_uri": "https://localhost:8080/"
    },
    "id": "WrIxgZeV0ARH",
    "outputId": "f2fc57bd-327a-4ff4-b621-9eab29c0d0a5"
   },
   "outputs": [
    {
     "name": "stdout",
     "output_type": "stream",
     "text": [
      "Model: \"sequential\"\n",
      "_________________________________________________________________\n",
      " Layer (type)                Output Shape              Param #   \n",
      "=================================================================\n",
      " flatten (Flatten)           (None, 784)               0         \n",
      "                                                                 \n",
      " dense (Dense)               (None, 128)               100480    \n",
      "                                                                 \n",
      " dense_1 (Dense)             (None, 10)                1290      \n",
      "                                                                 \n",
      "=================================================================\n",
      "Total params: 101,770\n",
      "Trainable params: 101,770\n",
      "Non-trainable params: 0\n",
      "_________________________________________________________________\n",
      "None\n"
     ]
    }
   ],
   "source": [
    "print(mnist_fashion_model.summary())"
   ]
  },
  {
   "cell_type": "markdown",
   "metadata": {
    "id": "lerfItnYBsyl"
   },
   "source": [
    "**Modification 1 - adding extra dense layer**"
   ]
  },
  {
   "cell_type": "code",
   "execution_count": 39,
   "metadata": {
    "colab": {
     "base_uri": "https://localhost:8080/"
    },
    "id": "88gsanTW_RuU",
    "outputId": "66b81125-41a4-4615-d92a-ad763f9d16e4"
   },
   "outputs": [
    {
     "name": "stdout",
     "output_type": "stream",
     "text": [
      "Model: \"sequential_4\"\n",
      "_________________________________________________________________\n",
      " Layer (type)                Output Shape              Param #   \n",
      "=================================================================\n",
      " flatten_2 (Flatten)         (None, 784)               0         \n",
      "                                                                 \n",
      " dense_4 (Dense)             (None, 128)               100480    \n",
      "                                                                 \n",
      " dense_5 (Dense)             (None, 128)               16512     \n",
      "                                                                 \n",
      " dense_6 (Dense)             (None, 10)                1290      \n",
      "                                                                 \n",
      "=================================================================\n",
      "Total params: 118,282\n",
      "Trainable params: 118,282\n",
      "Non-trainable params: 0\n",
      "_________________________________________________________________\n",
      "None\n"
     ]
    }
   ],
   "source": [
    "mnist_fashion_model_extra_dense = tf.keras.Sequential([\n",
    "    tf.keras.layers.Flatten(input_shape=(28, 28)),\n",
    "    tf.keras.layers.Dense(128, activation='relu'),\n",
    "    tf.keras.layers.Dense(128, activation='relu'), # aded layer\n",
    "    tf.keras.layers.Dense(10)\n",
    "])\n",
    "print(mnist_fashion_model_extra_dense.summary())"
   ]
  },
  {
   "cell_type": "markdown",
   "metadata": {
    "id": "9BqVhoLICq1s"
   },
   "source": [
    "*Compiling modified model*"
   ]
  },
  {
   "cell_type": "code",
   "execution_count": 40,
   "metadata": {
    "id": "5Y3xPUP2Cocj"
   },
   "outputs": [],
   "source": [
    "mnist_fashion_model_extra_dense.compile(optimizer='adam',\n",
    "              loss=tf.keras.losses.SparseCategoricalCrossentropy(from_logits=True),\n",
    "              metrics=['accuracy'])"
   ]
  },
  {
   "cell_type": "markdown",
   "metadata": {
    "id": "tcY_bn0sC2Jw"
   },
   "source": [
    "Training modified model"
   ]
  },
  {
   "cell_type": "code",
   "execution_count": 41,
   "metadata": {
    "colab": {
     "base_uri": "https://localhost:8080/"
    },
    "id": "b_juAhl_C05d",
    "outputId": "0b2b10e3-8011-4285-c528-ccc1def3c4ca"
   },
   "outputs": [
    {
     "name": "stdout",
     "output_type": "stream",
     "text": [
      "Epoch 1/10\n",
      "1875/1875 [==============================] - 5s 3ms/step - loss: 0.4849 - accuracy: 0.8259\n",
      "Epoch 2/10\n",
      "1875/1875 [==============================] - 5s 3ms/step - loss: 0.3632 - accuracy: 0.8676\n",
      "Epoch 3/10\n",
      "1875/1875 [==============================] - 5s 3ms/step - loss: 0.3279 - accuracy: 0.8778\n",
      "Epoch 4/10\n",
      "1875/1875 [==============================] - 5s 3ms/step - loss: 0.3030 - accuracy: 0.8880\n",
      "Epoch 5/10\n",
      "1875/1875 [==============================] - 5s 3ms/step - loss: 0.2864 - accuracy: 0.8933\n",
      "Epoch 6/10\n",
      "1875/1875 [==============================] - 5s 3ms/step - loss: 0.2725 - accuracy: 0.8979\n",
      "Epoch 7/10\n",
      "1875/1875 [==============================] - 5s 2ms/step - loss: 0.2583 - accuracy: 0.9032\n",
      "Epoch 8/10\n",
      "1875/1875 [==============================] - 5s 3ms/step - loss: 0.2491 - accuracy: 0.9059\n",
      "Epoch 9/10\n",
      "1875/1875 [==============================] - 5s 3ms/step - loss: 0.2408 - accuracy: 0.9089\n",
      "Epoch 10/10\n",
      "1875/1875 [==============================] - 5s 3ms/step - loss: 0.2291 - accuracy: 0.9136\n"
     ]
    },
    {
     "data": {
      "text/plain": [
       "<keras.callbacks.History at 0x7f33853aa610>"
      ]
     },
     "execution_count": 41,
     "metadata": {},
     "output_type": "execute_result"
    }
   ],
   "source": [
    "mnist_fashion_model_extra_dense.fit(fash_train_images, fash_train_labels, epochs=10)"
   ]
  },
  {
   "cell_type": "markdown",
   "metadata": {
    "id": "3PPP9KiLVQrv"
   },
   "source": [
    "*Evaluating the model - accuracy reprort*"
   ]
  },
  {
   "cell_type": "code",
   "execution_count": 42,
   "metadata": {
    "colab": {
     "base_uri": "https://localhost:8080/"
    },
    "id": "rMuiFmrxVL2e",
    "outputId": "3963e35a-b732-4bd1-b7e9-b1d309416e8d"
   },
   "outputs": [
    {
     "name": "stdout",
     "output_type": "stream",
     "text": [
      "313/313 - 0s - loss: 0.3337 - accuracy: 0.8814 - 469ms/epoch - 1ms/step\n",
      "\n",
      "Test accuracy: 0.8813999891281128\n"
     ]
    }
   ],
   "source": [
    "test_loss, test_acc = mnist_fashion_model_extra_dense.evaluate(fash_test_images,  fash_test_labels, verbose=2)\n",
    "\n",
    "print('\\nTest accuracy:', test_acc)"
   ]
  },
  {
   "cell_type": "markdown",
   "metadata": {
    "id": "2oEzTcfbVy2-"
   },
   "source": [
    " *Original accuracy => 0.884* <br>\n",
    " *Accuracy of model with extra dense layer => 0.881*"
   ]
  },
  {
   "cell_type": "markdown",
   "metadata": {
    "id": "_yJDKdJxWS34"
   },
   "source": [
    "**Modification 2 - changing Hidden Layer neurons qty to 256**"
   ]
  },
  {
   "cell_type": "code",
   "execution_count": 43,
   "metadata": {
    "colab": {
     "base_uri": "https://localhost:8080/"
    },
    "id": "2JBEi7J8VyWO",
    "outputId": "64e6dbee-0f39-4cdd-86f0-16bb90c0180d"
   },
   "outputs": [
    {
     "name": "stdout",
     "output_type": "stream",
     "text": [
      "Model: \"sequential_5\"\n",
      "_________________________________________________________________\n",
      " Layer (type)                Output Shape              Param #   \n",
      "=================================================================\n",
      " flatten_3 (Flatten)         (None, 784)               0         \n",
      "                                                                 \n",
      " dense_7 (Dense)             (None, 256)               200960    \n",
      "                                                                 \n",
      " dense_8 (Dense)             (None, 10)                2570      \n",
      "                                                                 \n",
      "=================================================================\n",
      "Total params: 203,530\n",
      "Trainable params: 203,530\n",
      "Non-trainable params: 0\n",
      "_________________________________________________________________\n",
      "None\n"
     ]
    }
   ],
   "source": [
    "mnist_fashion_model_256_hidden = tf.keras.Sequential([\n",
    "    tf.keras.layers.Flatten(input_shape=(28, 28)),\n",
    "    tf.keras.layers.Dense(256, activation='relu'), # 128 changed to 256\n",
    "    tf.keras.layers.Dense(10)\n",
    "])\n",
    "print(mnist_fashion_model_256_hidden.summary())"
   ]
  },
  {
   "cell_type": "markdown",
   "metadata": {
    "id": "EUYq35imXW8k"
   },
   "source": [
    "*Compiling modified model*"
   ]
  },
  {
   "cell_type": "code",
   "execution_count": 44,
   "metadata": {
    "id": "YTqWXuaBXMBu"
   },
   "outputs": [],
   "source": [
    "mnist_fashion_model_256_hidden.compile(optimizer='adam',\n",
    "              loss=tf.keras.losses.SparseCategoricalCrossentropy(from_logits=True),\n",
    "              metrics=['accuracy'])"
   ]
  },
  {
   "cell_type": "markdown",
   "metadata": {
    "id": "yZlp6FyEXdTp"
   },
   "source": [
    "Training modified model"
   ]
  },
  {
   "cell_type": "code",
   "execution_count": 45,
   "metadata": {
    "colab": {
     "base_uri": "https://localhost:8080/"
    },
    "id": "8kBbwABFXdTp",
    "outputId": "3f2e0cd1-600a-4292-8361-99e2d4a587f4"
   },
   "outputs": [
    {
     "name": "stdout",
     "output_type": "stream",
     "text": [
      "Epoch 1/10\n",
      "1875/1875 [==============================] - 6s 3ms/step - loss: 0.4846 - accuracy: 0.8283\n",
      "Epoch 2/10\n",
      "1875/1875 [==============================] - 6s 3ms/step - loss: 0.3592 - accuracy: 0.8699\n",
      "Epoch 3/10\n",
      "1875/1875 [==============================] - 6s 3ms/step - loss: 0.3241 - accuracy: 0.8823\n",
      "Epoch 4/10\n",
      "1875/1875 [==============================] - 6s 3ms/step - loss: 0.3020 - accuracy: 0.8886\n",
      "Epoch 5/10\n",
      "1875/1875 [==============================] - 6s 3ms/step - loss: 0.2867 - accuracy: 0.8933\n",
      "Epoch 6/10\n",
      "1875/1875 [==============================] - 6s 3ms/step - loss: 0.2703 - accuracy: 0.8993\n",
      "Epoch 7/10\n",
      "1875/1875 [==============================] - 6s 3ms/step - loss: 0.2574 - accuracy: 0.9032\n",
      "Epoch 8/10\n",
      "1875/1875 [==============================] - 6s 3ms/step - loss: 0.2475 - accuracy: 0.9064\n",
      "Epoch 9/10\n",
      "1875/1875 [==============================] - 6s 3ms/step - loss: 0.2361 - accuracy: 0.9114\n",
      "Epoch 10/10\n",
      "1875/1875 [==============================] - 6s 3ms/step - loss: 0.2276 - accuracy: 0.9142\n"
     ]
    },
    {
     "data": {
      "text/plain": [
       "<keras.callbacks.History at 0x7f33861fe810>"
      ]
     },
     "execution_count": 45,
     "metadata": {},
     "output_type": "execute_result"
    }
   ],
   "source": [
    "mnist_fashion_model_256_hidden.fit(fash_train_images, fash_train_labels, epochs=10)"
   ]
  },
  {
   "cell_type": "markdown",
   "metadata": {
    "id": "A_P0MpPYX50H"
   },
   "source": [
    "*Evaluating the model - accuracy reprort*"
   ]
  },
  {
   "cell_type": "code",
   "execution_count": 46,
   "metadata": {
    "colab": {
     "base_uri": "https://localhost:8080/"
    },
    "id": "6XuNkYu-X50I",
    "outputId": "283e69d4-1a80-4a7e-ec78-d5824df56898"
   },
   "outputs": [
    {
     "name": "stdout",
     "output_type": "stream",
     "text": [
      "313/313 - 1s - loss: 0.3397 - accuracy: 0.8835 - 583ms/epoch - 2ms/step\n",
      "\n",
      "Test accuracy: 0.8834999799728394\n"
     ]
    }
   ],
   "source": [
    "test_loss, test_acc = mnist_fashion_model_256_hidden.evaluate(fash_test_images,  fash_test_labels, verbose=2)\n",
    "\n",
    "print('\\nTest accuracy:', test_acc)"
   ]
  },
  {
   "cell_type": "markdown",
   "metadata": {
    "id": "uiME3Y87YJ5i"
   },
   "source": [
    " *Original accuracy => 0.884* <br>\n",
    " *Accuracy of model with 256 nodes in hidden layer => 0.883*"
   ]
  },
  {
   "cell_type": "markdown",
   "metadata": {
    "id": "ews3_qItYkqG"
   },
   "source": [
    "**Modification 3 - changing activation function to tanh**"
   ]
  },
  {
   "cell_type": "code",
   "execution_count": 47,
   "metadata": {
    "colab": {
     "base_uri": "https://localhost:8080/"
    },
    "id": "3SSpStbWZKco",
    "outputId": "5c4800d0-9ed2-45b5-ef74-91c1150060a7"
   },
   "outputs": [
    {
     "name": "stdout",
     "output_type": "stream",
     "text": [
      "Model: \"sequential_6\"\n",
      "_________________________________________________________________\n",
      " Layer (type)                Output Shape              Param #   \n",
      "=================================================================\n",
      " flatten_4 (Flatten)         (None, 784)               0         \n",
      "                                                                 \n",
      " dense_9 (Dense)             (None, 128)               100480    \n",
      "                                                                 \n",
      " dense_10 (Dense)            (None, 10)                1290      \n",
      "                                                                 \n",
      "=================================================================\n",
      "Total params: 101,770\n",
      "Trainable params: 101,770\n",
      "Non-trainable params: 0\n",
      "_________________________________________________________________\n",
      "None\n"
     ]
    }
   ],
   "source": [
    "mnist_fashion_model_tanh_activation = tf.keras.Sequential([\n",
    "    tf.keras.layers.Flatten(input_shape=(28, 28)),\n",
    "    tf.keras.layers.Dense(128, activation='tanh'), # relu changed to tanh\n",
    "    tf.keras.layers.Dense(10)\n",
    "])\n",
    "print(mnist_fashion_model_tanh_activation.summary())"
   ]
  },
  {
   "cell_type": "markdown",
   "metadata": {
    "id": "m_B_UToVbI24"
   },
   "source": [
    "*Compiling modified model*"
   ]
  },
  {
   "cell_type": "code",
   "execution_count": 48,
   "metadata": {
    "id": "OU_b3pnMbI24"
   },
   "outputs": [],
   "source": [
    "mnist_fashion_model_tanh_activation.compile(optimizer='adam',\n",
    "              loss=tf.keras.losses.SparseCategoricalCrossentropy(from_logits=True),\n",
    "              metrics=['accuracy'])"
   ]
  },
  {
   "cell_type": "markdown",
   "metadata": {
    "id": "eiTlPRvklIhZ"
   },
   "source": [
    "Training modified model"
   ]
  },
  {
   "cell_type": "code",
   "execution_count": 49,
   "metadata": {
    "colab": {
     "base_uri": "https://localhost:8080/"
    },
    "id": "2Hqu0soTb7CX",
    "outputId": "ba5a0434-66f0-4058-9b64-29ef5031b95e"
   },
   "outputs": [
    {
     "name": "stdout",
     "output_type": "stream",
     "text": [
      "Epoch 1/10\n",
      "1875/1875 [==============================] - 4s 2ms/step - loss: 0.4785 - accuracy: 0.8275\n",
      "Epoch 2/10\n",
      "1875/1875 [==============================] - 4s 2ms/step - loss: 0.3714 - accuracy: 0.8637\n",
      "Epoch 3/10\n",
      "1875/1875 [==============================] - 4s 2ms/step - loss: 0.3346 - accuracy: 0.8780\n",
      "Epoch 4/10\n",
      "1875/1875 [==============================] - 4s 2ms/step - loss: 0.3153 - accuracy: 0.8841\n",
      "Epoch 5/10\n",
      "1875/1875 [==============================] - 4s 2ms/step - loss: 0.2954 - accuracy: 0.8910\n",
      "Epoch 6/10\n",
      "1875/1875 [==============================] - 4s 2ms/step - loss: 0.2833 - accuracy: 0.8959\n",
      "Epoch 7/10\n",
      "1875/1875 [==============================] - 4s 2ms/step - loss: 0.2728 - accuracy: 0.8994\n",
      "Epoch 8/10\n",
      "1875/1875 [==============================] - 4s 2ms/step - loss: 0.2603 - accuracy: 0.9037\n",
      "Epoch 9/10\n",
      "1875/1875 [==============================] - 4s 2ms/step - loss: 0.2519 - accuracy: 0.9065\n",
      "Epoch 10/10\n",
      "1875/1875 [==============================] - 4s 2ms/step - loss: 0.2420 - accuracy: 0.9104\n"
     ]
    },
    {
     "data": {
      "text/plain": [
       "<keras.callbacks.History at 0x7f338cae0650>"
      ]
     },
     "execution_count": 49,
     "metadata": {},
     "output_type": "execute_result"
    }
   ],
   "source": [
    "mnist_fashion_model_tanh_activation.fit(fash_train_images, fash_train_labels, epochs=10)"
   ]
  },
  {
   "cell_type": "markdown",
   "metadata": {
    "id": "x52-wIKScMM3"
   },
   "source": [
    "*Evaluating the model - accuracy reprort*"
   ]
  },
  {
   "cell_type": "code",
   "execution_count": 50,
   "metadata": {
    "colab": {
     "base_uri": "https://localhost:8080/"
    },
    "id": "BMr9-uGycMM3",
    "outputId": "7db7ac4e-4a26-41cd-9e21-55f09b068acd"
   },
   "outputs": [
    {
     "name": "stdout",
     "output_type": "stream",
     "text": [
      "313/313 - 0s - loss: 0.3508 - accuracy: 0.8730 - 458ms/epoch - 1ms/step\n",
      "\n",
      "Test accuracy: 0.8730000257492065\n"
     ]
    }
   ],
   "source": [
    "test_loss, test_acc = mnist_fashion_model_tanh_activation.evaluate(fash_test_images,  fash_test_labels, verbose=2)\n",
    "\n",
    "print('\\nTest accuracy:', test_acc)"
   ]
  },
  {
   "cell_type": "markdown",
   "metadata": {
    "id": "mYHccKLCcVf0"
   },
   "source": [
    " *Original accuracy => 0.884* <br>\n",
    " *Accuracy of model with tanh activation function => 0.873*"
   ]
  },
  {
   "cell_type": "markdown",
   "metadata": {
    "id": "c2019-W_cgt0"
   },
   "source": [
    "**Modification 4 - adding dropout (20%) on hidden layer**"
   ]
  },
  {
   "cell_type": "code",
   "execution_count": 51,
   "metadata": {
    "colab": {
     "base_uri": "https://localhost:8080/"
    },
    "id": "aDMn7QnRcc39",
    "outputId": "65199ebc-ffad-4502-ca18-53fd146f768a"
   },
   "outputs": [
    {
     "name": "stdout",
     "output_type": "stream",
     "text": [
      "Model: \"sequential_7\"\n",
      "_________________________________________________________________\n",
      " Layer (type)                Output Shape              Param #   \n",
      "=================================================================\n",
      " flatten_5 (Flatten)         (None, 784)               0         \n",
      "                                                                 \n",
      " dense_11 (Dense)            (None, 128)               100480    \n",
      "                                                                 \n",
      " dropout (Dropout)           (None, 128)               0         \n",
      "                                                                 \n",
      " dense_12 (Dense)            (None, 10)                1290      \n",
      "                                                                 \n",
      "=================================================================\n",
      "Total params: 101,770\n",
      "Trainable params: 101,770\n",
      "Non-trainable params: 0\n",
      "_________________________________________________________________\n",
      "None\n"
     ]
    }
   ],
   "source": [
    "mnist_fashion_model_dropout = tf.keras.Sequential([\n",
    "    tf.keras.layers.Flatten(input_shape=(28, 28)),\n",
    "    tf.keras.layers.Dense(128, activation='relu'),\n",
    "    tf.keras.layers.Dropout(.2), # added droput layer\n",
    "    tf.keras.layers.Dense(10)\n",
    "])\n",
    "print(mnist_fashion_model_dropout.summary())"
   ]
  },
  {
   "cell_type": "markdown",
   "metadata": {
    "id": "-9jRXjMVk-Sk"
   },
   "source": [
    "*Compiling modified model*"
   ]
  },
  {
   "cell_type": "code",
   "execution_count": 52,
   "metadata": {
    "id": "T8VyBi7Rk-Sk"
   },
   "outputs": [],
   "source": [
    "mnist_fashion_model_dropout.compile(optimizer='adam',\n",
    "              loss=tf.keras.losses.SparseCategoricalCrossentropy(from_logits=True),\n",
    "              metrics=['accuracy'])"
   ]
  },
  {
   "cell_type": "markdown",
   "metadata": {
    "id": "qtx0r4ZZlKbG"
   },
   "source": [
    "Training modified model"
   ]
  },
  {
   "cell_type": "code",
   "execution_count": 53,
   "metadata": {
    "colab": {
     "base_uri": "https://localhost:8080/"
    },
    "id": "teQk7L6sk1UL",
    "outputId": "7f3a6a79-13b8-4eaa-bdc2-522ea6321d98"
   },
   "outputs": [
    {
     "name": "stdout",
     "output_type": "stream",
     "text": [
      "Epoch 1/10\n",
      "1875/1875 [==============================] - 5s 2ms/step - loss: 0.5302 - accuracy: 0.8120\n",
      "Epoch 2/10\n",
      "1875/1875 [==============================] - 4s 2ms/step - loss: 0.3989 - accuracy: 0.8539\n",
      "Epoch 3/10\n",
      "1875/1875 [==============================] - 4s 2ms/step - loss: 0.3656 - accuracy: 0.8667\n",
      "Epoch 4/10\n",
      "1875/1875 [==============================] - 4s 2ms/step - loss: 0.3468 - accuracy: 0.8726\n",
      "Epoch 5/10\n",
      "1875/1875 [==============================] - 4s 2ms/step - loss: 0.3298 - accuracy: 0.8790\n",
      "Epoch 6/10\n",
      "1875/1875 [==============================] - 4s 2ms/step - loss: 0.3185 - accuracy: 0.8823\n",
      "Epoch 7/10\n",
      "1875/1875 [==============================] - 4s 2ms/step - loss: 0.3081 - accuracy: 0.8849\n",
      "Epoch 8/10\n",
      "1875/1875 [==============================] - 4s 2ms/step - loss: 0.2976 - accuracy: 0.8892\n",
      "Epoch 9/10\n",
      "1875/1875 [==============================] - 4s 2ms/step - loss: 0.2880 - accuracy: 0.8922\n",
      "Epoch 10/10\n",
      "1875/1875 [==============================] - 4s 2ms/step - loss: 0.2844 - accuracy: 0.8938\n"
     ]
    },
    {
     "data": {
      "text/plain": [
       "<keras.callbacks.History at 0x7f33861f8d50>"
      ]
     },
     "execution_count": 53,
     "metadata": {},
     "output_type": "execute_result"
    }
   ],
   "source": [
    "mnist_fashion_model_dropout.fit(fash_train_images, fash_train_labels, epochs=10)"
   ]
  },
  {
   "cell_type": "markdown",
   "metadata": {
    "id": "t5QD2jAnljVi"
   },
   "source": [
    "*Evaluating the model - accuracy reprort*"
   ]
  },
  {
   "cell_type": "code",
   "execution_count": 54,
   "metadata": {
    "colab": {
     "base_uri": "https://localhost:8080/"
    },
    "id": "3WlxC-HlljVi",
    "outputId": "fad1b2f7-a802-41d4-e34a-94bf6fca4617"
   },
   "outputs": [
    {
     "name": "stdout",
     "output_type": "stream",
     "text": [
      "313/313 - 0s - loss: 0.3494 - accuracy: 0.8747 - 462ms/epoch - 1ms/step\n",
      "\n",
      "Test accuracy: 0.8747000098228455\n"
     ]
    }
   ],
   "source": [
    "test_loss, test_acc = mnist_fashion_model_dropout.evaluate(fash_test_images,  fash_test_labels, verbose=2)\n",
    "\n",
    "print('\\nTest accuracy:', test_acc)"
   ]
  },
  {
   "cell_type": "markdown",
   "metadata": {
    "id": "0jrXzULHqMUx"
   },
   "source": [
    " *Original accuracy => 0.884* <br>\n",
    " *Accuracy of model with dropout => 0.874*"
   ]
  },
  {
   "cell_type": "markdown",
   "metadata": {
    "id": "oRiTpmABol3i"
   },
   "source": [
    "**Modification 5 - combining: dropout (20%) + tanh + 256 nodes + extra  layer**"
   ]
  },
  {
   "cell_type": "code",
   "execution_count": 55,
   "metadata": {
    "colab": {
     "base_uri": "https://localhost:8080/"
    },
    "id": "pOrVXRjOol3i",
    "outputId": "f734baf1-4f31-4391-eedd-4275ec8ff2b8"
   },
   "outputs": [
    {
     "name": "stdout",
     "output_type": "stream",
     "text": [
      "Model: \"sequential_8\"\n",
      "_________________________________________________________________\n",
      " Layer (type)                Output Shape              Param #   \n",
      "=================================================================\n",
      " flatten_6 (Flatten)         (None, 784)               0         \n",
      "                                                                 \n",
      " dense_13 (Dense)            (None, 256)               200960    \n",
      "                                                                 \n",
      " dropout_1 (Dropout)         (None, 256)               0         \n",
      "                                                                 \n",
      " dense_14 (Dense)            (None, 256)               65792     \n",
      "                                                                 \n",
      " dense_15 (Dense)            (None, 10)                2570      \n",
      "                                                                 \n",
      "=================================================================\n",
      "Total params: 269,322\n",
      "Trainable params: 269,322\n",
      "Non-trainable params: 0\n",
      "_________________________________________________________________\n",
      "None\n"
     ]
    }
   ],
   "source": [
    "mnist_fashion_model_combined = tf.keras.Sequential([\n",
    "    tf.keras.layers.Flatten(input_shape=(28, 28)),\n",
    "    tf.keras.layers.Dense(256, activation='tanh'), # changed nodes: 128->256, activation: relu->tanh\n",
    "    tf.keras.layers.Dropout(.2), # added dropout layer\n",
    "    tf.keras.layers.Dense(256, activation='tanh'), # additional layer added\n",
    "    tf.keras.layers.Dense(10)\n",
    "])\n",
    "print(mnist_fashion_model_combined.summary())"
   ]
  },
  {
   "cell_type": "markdown",
   "metadata": {
    "id": "HN0tHCZoplCK"
   },
   "source": [
    "*Compiling modified model*"
   ]
  },
  {
   "cell_type": "code",
   "execution_count": 56,
   "metadata": {
    "id": "-J6d9gJwplCK"
   },
   "outputs": [],
   "source": [
    "mnist_fashion_model_combined.compile(optimizer='adam',\n",
    "              loss=tf.keras.losses.SparseCategoricalCrossentropy(from_logits=True),\n",
    "              metrics=['accuracy'])"
   ]
  },
  {
   "cell_type": "markdown",
   "metadata": {
    "id": "Ci40qdmkppwU"
   },
   "source": [
    "Training modified model"
   ]
  },
  {
   "cell_type": "code",
   "execution_count": 57,
   "metadata": {
    "colab": {
     "base_uri": "https://localhost:8080/"
    },
    "id": "3gsOO5XappwV",
    "outputId": "0d0c151e-90c0-4614-f352-537c6a2884bd"
   },
   "outputs": [
    {
     "name": "stdout",
     "output_type": "stream",
     "text": [
      "Epoch 1/10\n",
      "1875/1875 [==============================] - 8s 4ms/step - loss: 0.5000 - accuracy: 0.8171\n",
      "Epoch 2/10\n",
      "1875/1875 [==============================] - 8s 4ms/step - loss: 0.3855 - accuracy: 0.8577\n",
      "Epoch 3/10\n",
      "1875/1875 [==============================] - 8s 4ms/step - loss: 0.3578 - accuracy: 0.8668\n",
      "Epoch 4/10\n",
      "1875/1875 [==============================] - 8s 4ms/step - loss: 0.3367 - accuracy: 0.8748\n",
      "Epoch 5/10\n",
      "1875/1875 [==============================] - 8s 4ms/step - loss: 0.3232 - accuracy: 0.8782\n",
      "Epoch 6/10\n",
      "1875/1875 [==============================] - 8s 4ms/step - loss: 0.3125 - accuracy: 0.8835\n",
      "Epoch 7/10\n",
      "1875/1875 [==============================] - 11s 6ms/step - loss: 0.3057 - accuracy: 0.8866\n",
      "Epoch 8/10\n",
      "1875/1875 [==============================] - 8s 4ms/step - loss: 0.2974 - accuracy: 0.8886\n",
      "Epoch 9/10\n",
      "1875/1875 [==============================] - 8s 4ms/step - loss: 0.2924 - accuracy: 0.8908\n",
      "Epoch 10/10\n",
      "1875/1875 [==============================] - 8s 4ms/step - loss: 0.2865 - accuracy: 0.8939\n"
     ]
    },
    {
     "data": {
      "text/plain": [
       "<keras.callbacks.History at 0x7f33875351d0>"
      ]
     },
     "execution_count": 57,
     "metadata": {},
     "output_type": "execute_result"
    }
   ],
   "source": [
    "mnist_fashion_model_combined.fit(fash_train_images, fash_train_labels, epochs=10)"
   ]
  },
  {
   "cell_type": "markdown",
   "metadata": {
    "id": "lz-6XpjFqAQG"
   },
   "source": [
    "*Evaluating the model - accuracy reprort*"
   ]
  },
  {
   "cell_type": "code",
   "execution_count": 58,
   "metadata": {
    "colab": {
     "base_uri": "https://localhost:8080/"
    },
    "id": "Xe-62uBEqAQG",
    "outputId": "7955295d-78d2-4e15-9125-7f4e076ee198"
   },
   "outputs": [
    {
     "name": "stdout",
     "output_type": "stream",
     "text": [
      "313/313 - 1s - loss: 0.3376 - accuracy: 0.8757 - 582ms/epoch - 2ms/step\n",
      "\n",
      "Test accuracy: 0.8756999969482422\n"
     ]
    }
   ],
   "source": [
    "test_loss, test_acc = mnist_fashion_model_combined.evaluate(fash_test_images,  fash_test_labels, verbose=2)\n",
    "\n",
    "print('\\nTest accuracy:', test_acc)"
   ]
  },
  {
   "cell_type": "markdown",
   "metadata": {
    "id": "2I57chKvljVj"
   },
   "source": [
    " *Original accuracy => 0.884* <br>\n",
    " *Accuracy of combined model => 0.875*"
   ]
  },
  {
   "cell_type": "markdown",
   "metadata": {
    "id": "KMNVaYTBtVE6"
   },
   "source": [
    "# **Question 4:**"
   ]
  },
  {
   "cell_type": "markdown",
   "metadata": {
    "id": "8h3kkorWfc9F"
   },
   "source": [
    "**Plotting Histograms for the  (correct& incorrect) prediction probabilities**"
   ]
  },
  {
   "cell_type": "code",
   "execution_count": 59,
   "metadata": {
    "id": "cMeZtR8PgSVb"
   },
   "outputs": [],
   "source": [
    "def get_max_pred_prob(prob_arr,labels):\n",
    "  correct_prob_pred = []\n",
    "  incorrect_prob_pred = []\n",
    "  for i in range(len(prob_arr)):\n",
    "    if np.argmax(prob_arr[i]) == labels[i]:\n",
    "      correct_prob_pred.append(np.amax(prob_arr[i]))\n",
    "    else:\n",
    "      incorrect_prob_pred.append(np.amax(prob_arr[i])) \n",
    "  return correct_prob_pred,incorrect_prob_pred"
   ]
  },
  {
   "cell_type": "code",
   "execution_count": 60,
   "metadata": {
    "id": "9OLJmORumSeK"
   },
   "outputs": [],
   "source": [
    "correct_classified_prob,incorrect_classified_prob = get_max_pred_prob(fash_predictions,fash_test_labels)"
   ]
  },
  {
   "cell_type": "code",
   "execution_count": 61,
   "metadata": {
    "colab": {
     "base_uri": "https://localhost:8080/"
    },
    "id": "xn-okcw5xhRo",
    "outputId": "d5c413ea-5960-4dad-ec4d-da82785c9d8c"
   },
   "outputs": [
    {
     "data": {
      "text/plain": [
       "1151"
      ]
     },
     "execution_count": 61,
     "metadata": {},
     "output_type": "execute_result"
    }
   ],
   "source": [
    "len(incorrect_classified_prob)"
   ]
  },
  {
   "cell_type": "code",
   "execution_count": 62,
   "metadata": {
    "colab": {
     "base_uri": "https://localhost:8080/"
    },
    "id": "LyzyM-fqy70n",
    "outputId": "4773cedb-9901-4b91-fa56-c5e443d9ea77"
   },
   "outputs": [
    {
     "data": {
      "text/plain": [
       "8849"
      ]
     },
     "execution_count": 62,
     "metadata": {},
     "output_type": "execute_result"
    }
   ],
   "source": [
    "len(correct_classified_prob)"
   ]
  },
  {
   "cell_type": "code",
   "execution_count": 63,
   "metadata": {
    "colab": {
     "base_uri": "https://localhost:8080/",
     "height": 462
    },
    "id": "rJ1bp55vrkSb",
    "outputId": "bf60ed89-709c-43e6-a3a7-e86bb3f33da0"
   },
   "outputs": [
    {
     "data": {
      "text/plain": [
       "Text(0.5, 0, 'Max Probability')"
      ]
     },
     "execution_count": 63,
     "metadata": {},
     "output_type": "execute_result"
    },
    {
     "data": {
      "image/png": "[encoded data removed]",
      "text/plain": [
       "<Figure size 640x480 with 1 Axes>"
      ]
     },
     "metadata": {
      "needs_background": "light"
     },
     "output_type": "display_data"
    }
   ],
   "source": [
    "%matplotlib inline\n",
    "plt.figure(figsize=(8, 6), dpi=80)\n",
    "plt.hist(correct_classified_prob, density=False, bins=50)  # density=False would make counts\n",
    "plt.title('Prediction Probabilities Histogram - correct')\n",
    "plt.ylabel('count')\n",
    "plt.xlabel('Max Probability')"
   ]
  },
  {
   "cell_type": "code",
   "execution_count": 64,
   "metadata": {
    "colab": {
     "base_uri": "https://localhost:8080/",
     "height": 462
    },
    "id": "H29lhI-Gf7je",
    "outputId": "693a1246-c370-44d1-e609-73147597ae47"
   },
   "outputs": [
    {
     "data": {
      "text/plain": [
       "Text(0.5, 0, 'Max Probability')"
      ]
     },
     "execution_count": 64,
     "metadata": {},
     "output_type": "execute_result"
    },
    {
     "data": {
      "image/png": "[encoded data removed]",
      "text/plain": [
       "<Figure size 640x480 with 1 Axes>"
      ]
     },
     "metadata": {
      "needs_background": "light"
     },
     "output_type": "display_data"
    }
   ],
   "source": [
    "%matplotlib inline\n",
    "plt.figure(figsize=(8, 6), dpi=80)\n",
    "plt.hist(incorrect_classified_prob, density=False, bins=50)  # density=False would make counts\n",
    "plt.title('Prediction Probabilities Histogram - incorrect')\n",
    "plt.ylabel('count')\n",
    "plt.xlabel('Max Probability')"
   ]
  },
  {
   "cell_type": "markdown",
   "metadata": {
    "id": "Q_cUtXP0RE0c"
   },
   "source": [
    "# **Question 5:**"
   ]
  },
  {
   "cell_type": "markdown",
   "metadata": {
    "id": "X1o_Pa0ARguG"
   },
   "source": [
    "**Testing mnist digit model with fashion images & labels**"
   ]
  },
  {
   "cell_type": "code",
   "execution_count": 65,
   "metadata": {
    "colab": {
     "base_uri": "https://localhost:8080/"
    },
    "id": "qRmmC2D4tO9J",
    "outputId": "7ac5f7d5-7b29-4264-b73e-3ef32569fdc1"
   },
   "outputs": [
    {
     "name": "stdout",
     "output_type": "stream",
     "text": [
      "313/313 - 0s - loss: 23.3175 - accuracy: 0.0727 - 377ms/epoch - 1ms/step\n",
      "\n",
      "Test accuracy: 0.07270000129938126\n"
     ]
    }
   ],
   "source": [
    "test_loss, test_acc = mnist_digit_model.evaluate(fash_test_images,  fash_test_labels, verbose=2)\n",
    "\n",
    "print('\\nTest accuracy:', test_acc)"
   ]
  },
  {
   "cell_type": "markdown",
   "metadata": {
    "id": "89fxsE5YR45N"
   },
   "source": [
    "*Accuracy  => 0.07*"
   ]
  },
  {
   "cell_type": "code",
   "execution_count": 66,
   "metadata": {
    "id": "rOxGwKL1SBka"
   },
   "outputs": [],
   "source": [
    "dig_predictions_on_fashion = dig_probability_model.predict(fash_test_images)\n",
    "\n",
    "correct_classified_prob,incorrect_classified_prob = get_max_pred_prob(dig_predictions_on_fashion,fash_test_labels)"
   ]
  },
  {
   "cell_type": "code",
   "execution_count": 67,
   "metadata": {
    "colab": {
     "base_uri": "https://localhost:8080/",
     "height": 462
    },
    "id": "mOEgFQdfVQQg",
    "outputId": "3d7247b8-0419-48b2-8f81-71a16686e584"
   },
   "outputs": [
    {
     "data": {
      "text/plain": [
       "Text(0.5, 0, 'Max Probability')"
      ]
     },
     "execution_count": 67,
     "metadata": {},
     "output_type": "execute_result"
    },
    {
     "data": {
      "image/png": "[encoded data removed]",
      "text/plain": [
       "<Figure size 640x480 with 1 Axes>"
      ]
     },
     "metadata": {
      "needs_background": "light"
     },
     "output_type": "display_data"
    }
   ],
   "source": [
    "%matplotlib inline\n",
    "plt.figure(figsize=(8, 6), dpi=80)\n",
    "plt.hist(correct_classified_prob, density=False, bins=50)  # density=False would make counts\n",
    "plt.title('Prediction Probabilities Histogram - correct')\n",
    "plt.ylabel('count')\n",
    "plt.xlabel('Max Probability')"
   ]
  },
  {
   "cell_type": "code",
   "execution_count": 68,
   "metadata": {
    "colab": {
     "base_uri": "https://localhost:8080/",
     "height": 462
    },
    "id": "eXkwI1hbVbzX",
    "outputId": "3cc1f364-1ed5-43ba-a14c-0eae261aa3c5"
   },
   "outputs": [
    {
     "data": {
      "text/plain": [
       "Text(0.5, 0, 'Max Probability')"
      ]
     },
     "execution_count": 68,
     "metadata": {},
     "output_type": "execute_result"
    },
    {
     "data": {
      "image/png": "[encoded data removed]",
      "text/plain": [
       "<Figure size 640x480 with 1 Axes>"
      ]
     },
     "metadata": {
      "needs_background": "light"
     },
     "output_type": "display_data"
    }
   ],
   "source": [
    "%matplotlib inline\n",
    "plt.figure(figsize=(8, 6), dpi=80)\n",
    "plt.hist(incorrect_classified_prob, density=False, bins=50)  # density=False would make counts\n",
    "plt.title('Prediction Probabilities Histogram - incorrect')\n",
    "plt.ylabel('count')\n",
    "plt.xlabel('Max Probability')"
   ]
  },
  {
   "cell_type": "markdown",
   "metadata": {
    "id": "OVh-zp8oVcWr"
   },
   "source": [
    "**Conclusion:**<br>The classfier is very sure of the classifiaction when it is right and also when it is wrong, it can't predict when it will classify incorrectly"
   ]
  },
  {
   "cell_type": "markdown",
   "metadata": {
    "id": "EnKGofAwWvU6"
   },
   "source": [
    "**Testing mnist fashion model with digit images & labels**"
   ]
  },
  {
   "cell_type": "code",
   "execution_count": 69,
   "metadata": {
    "colab": {
     "base_uri": "https://localhost:8080/"
    },
    "id": "YaqV_VlAVpu2",
    "outputId": "f3dc4c9d-9021-4433-9cc7-fcfdf903c777"
   },
   "outputs": [
    {
     "name": "stdout",
     "output_type": "stream",
     "text": [
      "313/313 - 0s - loss: 6.9102 - accuracy: 0.1133 - 384ms/epoch - 1ms/step\n",
      "\n",
      "Test accuracy: 0.11330000311136246\n"
     ]
    }
   ],
   "source": [
    "test_loss, test_acc = mnist_fashion_model.evaluate(dig_test_images,  dig_test_labels, verbose=2)\n",
    "\n",
    "print('\\nTest accuracy:', test_acc)"
   ]
  },
  {
   "cell_type": "markdown",
   "metadata": {
    "id": "t-aBvtdHXcbZ"
   },
   "source": [
    "*Accuracy  => 0.113*"
   ]
  },
  {
   "cell_type": "code",
   "execution_count": 70,
   "metadata": {
    "id": "InL0er6hXHwD"
   },
   "outputs": [],
   "source": [
    "fash_predictions_on_digits = probability_model_fashion.predict(dig_test_images)\n",
    "\n",
    "correct_classified_prob,incorrect_classified_prob = get_max_pred_prob(fash_predictions_on_digits,dig_test_labels)"
   ]
  },
  {
   "cell_type": "code",
   "execution_count": 71,
   "metadata": {
    "colab": {
     "base_uri": "https://localhost:8080/",
     "height": 462
    },
    "id": "jHf1k1gHYYy8",
    "outputId": "9416ceff-a385-4c2d-cd0a-3712e0b14a85"
   },
   "outputs": [
    {
     "data": {
      "text/plain": [
       "Text(0.5, 0, 'Max Probability')"
      ]
     },
     "execution_count": 71,
     "metadata": {},
     "output_type": "execute_result"
    },
    {
     "data": {
      "image/png": "[encoded data removed]",
      "text/plain": [
       "<Figure size 640x480 with 1 Axes>"
      ]
     },
     "metadata": {
      "needs_background": "light"
     },
     "output_type": "display_data"
    }
   ],
   "source": [
    "%matplotlib inline\n",
    "plt.figure(figsize=(8, 6), dpi=80)\n",
    "plt.hist(correct_classified_prob, density=False, bins=50)  # density=False would make counts\n",
    "plt.title('Prediction Probabilities Histogram - correct')\n",
    "plt.ylabel('count')\n",
    "plt.xlabel('Max Probability')"
   ]
  },
  {
   "cell_type": "code",
   "execution_count": 72,
   "metadata": {
    "colab": {
     "base_uri": "https://localhost:8080/",
     "height": 462
    },
    "id": "ODnEjxCKYfE3",
    "outputId": "4d9fd803-4faa-4860-f990-546b14d1ae72"
   },
   "outputs": [
    {
     "data": {
      "text/plain": [
       "Text(0.5, 0, 'Max Probability')"
      ]
     },
     "execution_count": 72,
     "metadata": {},
     "output_type": "execute_result"
    },
    {
     "data": {
      "image/png": "[encoded data removed]",
      "text/plain": [
       "<Figure size 640x480 with 1 Axes>"
      ]
     },
     "metadata": {
      "needs_background": "light"
     },
     "output_type": "display_data"
    }
   ],
   "source": [
    "%matplotlib inline\n",
    "plt.figure(figsize=(8, 6), dpi=80)\n",
    "plt.hist(incorrect_classified_prob, density=False, bins=50)  # density=False would make counts\n",
    "plt.title('Prediction Probabilities Histogram - incorrect')\n",
    "plt.ylabel('count')\n",
    "plt.xlabel('Max Probability')"
   ]
  },
  {
   "cell_type": "markdown",
   "metadata": {
    "id": "jPC8odPuXZ9A"
   },
   "source": [
    "**Conclusion:**<br> Just as in Digit model, also mnist digit model can't predict if there is a high chance to be right or wrong when tested on fashion, it always thinks it will be right"
   ]
  },
  {
   "cell_type": "markdown",
   "metadata": {
    "id": "9dXKRE0EcHpp"
   },
   "source": [
    "# **Question 6:**"
   ]
  },
  {
   "cell_type": "markdown",
   "metadata": {
    "id": "tTWhcjBYcjE_"
   },
   "source": [
    "We will generate a set of images from image A (digit 2) and image B (digit 1)"
   ]
  },
  {
   "cell_type": "code",
   "execution_count": 73,
   "metadata": {
    "colab": {
     "base_uri": "https://localhost:8080/",
     "height": 297
    },
    "id": "OUXQdjgjdsjG",
    "outputId": "7e28beb2-21a4-4ac3-f458-12f3665b8eb8"
   },
   "outputs": [
    {
     "data": {
      "image/png": "[encoded data removed]",
      "text/plain": [
       "<Figure size 432x288 with 4 Axes>"
      ]
     },
     "metadata": {
      "needs_background": "light"
     },
     "output_type": "display_data"
    }
   ],
   "source": [
    "dig_img_A = dig_test_images[1]\n",
    "dig_img_B = dig_test_images[2]\n",
    "\n",
    "fig=plt.figure()\n",
    "axes=[]\n",
    "\n",
    "axes.append( fig.add_subplot(1,2,1) )\n",
    "plt.imshow(dig_img_A)\n",
    "plt.colorbar()\n",
    "plt.grid(False)\n",
    "\n",
    "\n",
    "axes.append( fig.add_subplot(1,2,2) )\n",
    "plt.imshow(dig_img_B)\n",
    "plt.colorbar()\n",
    "plt.grid(False)\n",
    "\n",
    "fig.tight_layout()    \n",
    "plt.show()\n",
    "\n",
    "\n"
   ]
  },
  {
   "cell_type": "markdown",
   "metadata": {
    "id": "gnbQznmrogSc"
   },
   "source": [
    "**Creating an array of 100 mixed imaged for alpha [0.01-1]**"
   ]
  },
  {
   "cell_type": "code",
   "execution_count": 74,
   "metadata": {
    "id": "4PU7gtsNcimY"
   },
   "outputs": [],
   "source": [
    "mixed_img_arr = np.zeros((100,28,28))\n",
    "for alpha in range(1,101,1): \n",
    "  mixed_img_arr[alpha-1] = np.multiply(dig_img_A, alpha/100) + np.multiply(dig_img_B, 1-(alpha/100))\n"
   ]
  },
  {
   "cell_type": "markdown",
   "metadata": {
    "id": "HGSb1_H7zr72"
   },
   "source": [
    "**Extracting max probability of prediction for each image**"
   ]
  },
  {
   "cell_type": "code",
   "execution_count": 75,
   "metadata": {
    "id": "JePUZayQoft0"
   },
   "outputs": [],
   "source": [
    "def get_max_pred_prob_mixed(prob_arr):\n",
    "  prob_pred = []\n",
    "  for i in range(len(prob_arr)):\n",
    "    prob_pred.append(np.amax(prob_arr[i]))\n",
    "  return prob_pred"
   ]
  },
  {
   "cell_type": "code",
   "execution_count": 76,
   "metadata": {
    "id": "a5b3wkXDeqe9"
   },
   "outputs": [],
   "source": [
    "predictions_on_mixed_digits = dig_probability_model.predict(mixed_img_arr)\n",
    "\n",
    "classified_prob = get_max_pred_prob_mixed(predictions_on_mixed_digits)"
   ]
  },
  {
   "cell_type": "code",
   "execution_count": 77,
   "metadata": {
    "colab": {
     "base_uri": "https://localhost:8080/",
     "height": 444
    },
    "id": "8eYQFZUStIQk",
    "outputId": "59496e3d-d9aa-40df-ba90-7f9071c71bb5"
   },
   "outputs": [
    {
     "data": {
      "image/png": "[encoded data removed]",
      "text/plain": [
       "<Figure size 640x480 with 1 Axes>"
      ]
     },
     "metadata": {
      "needs_background": "light"
     },
     "output_type": "display_data"
    }
   ],
   "source": [
    "%matplotlib inline\n",
    "plt.figure(figsize=(8, 6), dpi=80)\n",
    "x = np.linspace(0.01, 1, num=100)\n",
    "plt.plot(x,classified_prob)\n",
    "plt.title('Max Prediction Probabilities Vs Alpha ')\n",
    "plt.ylabel('Max Prediction')\n",
    "plt.xlabel('Alpha')\n",
    "plt.show()"
   ]
  },
  {
   "cell_type": "code",
   "execution_count": 78,
   "metadata": {
    "id": "z3t9LQ-FldbW"
   },
   "outputs": [],
   "source": [
    "def get_max_class(prob_arr):\n",
    "  prob_pred = []\n",
    "  for i in range(len(prob_arr)):\n",
    "    prob_pred.append(np.argmax(prob_arr[i]))\n",
    "  return prob_pred"
   ]
  },
  {
   "cell_type": "code",
   "execution_count": 79,
   "metadata": {
    "id": "UCQq-TvtmcNx"
   },
   "outputs": [],
   "source": [
    "classes = get_max_class(predictions_on_mixed_digits)"
   ]
  },
  {
   "cell_type": "code",
   "execution_count": 80,
   "metadata": {
    "colab": {
     "base_uri": "https://localhost:8080/",
     "height": 444
    },
    "id": "8nrI1ZWRl2Td",
    "outputId": "eafc25fd-c3c8-45e3-ecd8-ace2c3f449f4"
   },
   "outputs": [
    {
     "data": {
      "image/png": "[encoded data removed]",
      "text/plain": [
       "<Figure size 640x480 with 1 Axes>"
      ]
     },
     "metadata": {
      "needs_background": "light"
     },
     "output_type": "display_data"
    }
   ],
   "source": [
    "%matplotlib inline\n",
    "plt.figure(figsize=(8, 6), dpi=80)\n",
    "x = np.linspace(0.01, 1, num=100)\n",
    "plt.plot(x,classes)\n",
    "plt.yticks([1,2])\n",
    "plt.title('Predicted Class Vs Alpha')\n",
    "plt.ylabel('Class')\n",
    "plt.xlabel('Alpha')\n",
    "plt.show()"
   ]
  },
  {
   "cell_type": "markdown",
   "metadata": {
    "id": "C3BbIuWbxwvn"
   },
   "source": [
    "# **Question 7:**"
   ]
  },
  {
   "cell_type": "markdown",
   "metadata": {
    "id": "BOCqimbxxwvn"
   },
   "source": [
    "**We iterate over different droptout rates p = [0.01, 0.05, 0.1, 0.2, 0.3, 0.4, 0.5] and generate an aggregated probobility distribution of 100 classifiers in each iteration.We examine how p affects false confidence level and accuracy** "
   ]
  },
  {
   "cell_type": "markdown",
   "metadata": {
    "id": "-jWNddG_HuHv"
   },
   "source": [
    "**We define a metric for the estimating the false confidence level (false positive classifications) for each iteration as the average of all incorrect probabilities**"
   ]
  },
  {
   "cell_type": "markdown",
   "metadata": {
    "id": "QazDfQp-coni"
   },
   "source": [
    "**Training the model and grabing the weights**"
   ]
  },
  {
   "cell_type": "code",
   "execution_count": 81,
   "metadata": {
    "id": "QJ_5SvbMxwvo"
   },
   "outputs": [],
   "source": [
    "#train the fashion model once on the relevant dataset\n",
    "mnist_fashion_model.fit(fash_train_images, fash_train_labels, epochs=10, verbose=0)\n",
    "#Extract weights obtained during training once\n",
    "orig_weight = copy.deepcopy(mnist_fashion_model.layers[1].get_weights())"
   ]
  },
  {
   "cell_type": "markdown",
   "metadata": {
    "id": "YFTRSRl5cL92"
   },
   "source": [
    "**Creating functions for applying dropout and aggregating results of 100 classifiers**"
   ]
  },
  {
   "cell_type": "code",
   "execution_count": 82,
   "metadata": {
    "id": "zM9A-s96UCsz"
   },
   "outputs": [],
   "source": [
    "# receives a model & dropout probability p,applies dropout on the model\n",
    "def apply_dropout(p,model):\n",
    "   model.layers[1].set_weights(orig_weight) #reset weights to original\n",
    "   neurons = model.layers[1].output.shape[1] # get the number of neurons in the layer\n",
    "   layer_data = copy.deepcopy(orig_weight) #copy weights and biases to another variable\n",
    "   weight_sum_init = np.sum(layer_data[0]) #assign weights component seperately\n",
    "   bias_sum_init = np.sum(layer_data[1]) #assign bias component seperately\n",
    "   indices = np.random.choice(np.arange(neurons), replace=False, size=int(128 * p)) #generate random indices to drop corresponding neurons\n",
    "   layer_data[0][:,indices] = 0 #drop weight\n",
    "   layer_data[1][indices] = 0 #drop bias\n",
    "   weights_drop_ratio = np.sum(layer_data[0]) / weight_sum_init #calculate ratio of all neuron weights before and after drop\n",
    "   bias_drop_ratio = np.sum(layer_data[1]) / bias_sum_init #calculate ratio of all neuron biases before and after drop\n",
    "   norm_weights = layer_data[0] / weights_drop_ratio #normalize remaining weights according to calculated ratio\n",
    "   norm_bias = layer_data[1] / bias_drop_ratio #normalize remaining biases according to calculated ratio\n",
    "   layer_data[0] = norm_weights #assign normalized weights \n",
    "   layer_data[1] = norm_bias #assign normalized biases \n",
    "   model.layers[1].set_weights(layer_data) #set weights & biases after normalization\n",
    "\n",
    "\n",
    "\n",
    "# generates an aggregated prediction for the minst fashion test images, averaging 100 classfiers results\n",
    "def run_100_dropout_classifiers(p,model):\n",
    "  drop_prediction_agg = np.zeros((10000,10)) #initialize matrix to later store aggregation of 100 prediction iterations\n",
    "  for i in range(100):\n",
    "    apply_dropout(p,model)\n",
    "    drop_prediction = probability_model_fashion.predict(fash_test_images) #perform prediction with new weights and biases\n",
    "    drop_prediction_agg += drop_prediction #accumulate predictions\n",
    "  drop_prediction_avg = drop_prediction_agg / 100 #calculate the average prediction based on 100 accumulated results\n",
    "  correct_classified_prob,incorrect_classified_prob = get_max_pred_prob(drop_prediction_avg,fash_test_labels) #count wrong and right predictions just like before\n",
    "  accuracy = len(correct_classified_prob) / (len(incorrect_classified_prob)+len(correct_classified_prob)) \n",
    "  print('Accuracy: ',accuracy) #print accuracy \n",
    "  return (correct_classified_prob,incorrect_classified_prob,accuracy)"
   ]
  },
  {
   "cell_type": "markdown",
   "metadata": {
    "id": "xI5qZL_TdDiV"
   },
   "source": [
    "**Making a predicitions, using the adjusted weights with dropout**"
   ]
  },
  {
   "cell_type": "code",
   "execution_count": 83,
   "metadata": {
    "id": "uexLrNQXHZa2"
   },
   "outputs": [],
   "source": [
    "accuracies = []\n",
    "confidence_level = []"
   ]
  },
  {
   "cell_type": "markdown",
   "metadata": {
    "id": "C1wBHoDWxwvp"
   },
   "source": [
    "## **P=0.01** "
   ]
  },
  {
   "cell_type": "code",
   "execution_count": 84,
   "metadata": {
    "colab": {
     "base_uri": "https://localhost:8080/"
    },
    "id": "a1YloMIr5GDK",
    "outputId": "20c6ac7e-6aca-4392-a6f4-bcaa90d53891"
   },
   "outputs": [
    {
     "name": "stdout",
     "output_type": "stream",
     "text": [
      "Accuracy:  0.8843\n"
     ]
    }
   ],
   "source": [
    "correct_classified_prob,incorrect_classified_prob,accuracy = run_100_dropout_classifiers(0.01,mnist_fashion_model)\n",
    "accuracies.append(accuracy)\n",
    "confidence_level.append(np.average(incorrect_classified_prob))"
   ]
  },
  {
   "cell_type": "code",
   "execution_count": 85,
   "metadata": {
    "colab": {
     "base_uri": "https://localhost:8080/",
     "height": 462
    },
    "id": "AcZ8B_HcECTG",
    "outputId": "64d996d7-f373-46f3-b430-02576adf7c55"
   },
   "outputs": [
    {
     "data": {
      "text/plain": [
       "Text(0.5, 0, 'Max Probability')"
      ]
     },
     "execution_count": 85,
     "metadata": {},
     "output_type": "execute_result"
    },
    {
     "data": {
      "image/png": "[encoded data removed]",
      "text/plain": [
       "<Figure size 640x480 with 1 Axes>"
      ]
     },
     "metadata": {
      "needs_background": "light"
     },
     "output_type": "display_data"
    }
   ],
   "source": [
    "%matplotlib inline\n",
    "plt.figure(figsize=(8, 6), dpi=80)\n",
    "plt.hist(correct_classified_prob, density=False, bins=50)  # density=False would make counts\n",
    "plt.title('Prediction Probabilities Histogram - correct (P=0.01)')\n",
    "plt.ylabel('count')\n",
    "plt.xlabel('Max Probability')"
   ]
  },
  {
   "cell_type": "code",
   "execution_count": 86,
   "metadata": {
    "colab": {
     "base_uri": "https://localhost:8080/",
     "height": 462
    },
    "id": "tMfbEnhcxwvq",
    "outputId": "040d16cc-a7e2-465d-a54f-6b4f37d95b5d"
   },
   "outputs": [
    {
     "data": {
      "text/plain": [
       "Text(0.5, 0, 'Max Probability')"
      ]
     },
     "execution_count": 86,
     "metadata": {},
     "output_type": "execute_result"
    },
    {
     "data": {
      "image/png": "[encoded data removed]",
      "text/plain": [
       "<Figure size 640x480 with 1 Axes>"
      ]
     },
     "metadata": {
      "needs_background": "light"
     },
     "output_type": "display_data"
    }
   ],
   "source": [
    "%matplotlib inline\n",
    "plt.figure(figsize=(8, 6), dpi=80)\n",
    "plt.hist(incorrect_classified_prob, density=False, bins=50)  # density=False would make counts\n",
    "plt.title('Prediction Probabilities Histogram - incorrect (P=0.01)')\n",
    "plt.ylabel('count')\n",
    "plt.xlabel('Max Probability')"
   ]
  },
  {
   "cell_type": "markdown",
   "metadata": {
    "id": "euqDlYDKxwvq"
   },
   "source": [
    "## **P=0.05** "
   ]
  },
  {
   "cell_type": "code",
   "execution_count": 87,
   "metadata": {
    "colab": {
     "base_uri": "https://localhost:8080/"
    },
    "id": "5GJlReRN-eNo",
    "outputId": "e83c2b3b-873a-45c0-fb60-4fb9a440b07b"
   },
   "outputs": [
    {
     "name": "stdout",
     "output_type": "stream",
     "text": [
      "Accuracy:  0.8837\n"
     ]
    }
   ],
   "source": [
    "correct_classified_prob,incorrect_classified_prob,accuracy = run_100_dropout_classifiers(0.05,mnist_fashion_model)\n",
    "accuracies.append(accuracy)\n",
    "confidence_level.append(np.average(incorrect_classified_prob))"
   ]
  },
  {
   "cell_type": "code",
   "execution_count": 88,
   "metadata": {
    "colab": {
     "base_uri": "https://localhost:8080/",
     "height": 462
    },
    "id": "4KnNg5sG_Ds4",
    "outputId": "e67b7d2b-63cb-40ca-d22c-1a17f18921fa"
   },
   "outputs": [
    {
     "data": {
      "text/plain": [
       "Text(0.5, 0, 'Max Probability')"
      ]
     },
     "execution_count": 88,
     "metadata": {},
     "output_type": "execute_result"
    },
    {
     "data": {
      "image/png": "[encoded data removed]",
      "text/plain": [
       "<Figure size 640x480 with 1 Axes>"
      ]
     },
     "metadata": {
      "needs_background": "light"
     },
     "output_type": "display_data"
    }
   ],
   "source": [
    "%matplotlib inline\n",
    "plt.figure(figsize=(8, 6), dpi=80)\n",
    "plt.hist(correct_classified_prob, density=False, bins=50)  # density=False would make counts\n",
    "plt.title('Prediction Probabilities Histogram - correct (P=0.05)')\n",
    "plt.ylabel('count')\n",
    "plt.xlabel('Max Probability')"
   ]
  },
  {
   "cell_type": "code",
   "execution_count": 89,
   "metadata": {
    "colab": {
     "base_uri": "https://localhost:8080/",
     "height": 462
    },
    "id": "PnkhrOAx_GNJ",
    "outputId": "2601025c-e12b-43d1-f7de-df97435e662d"
   },
   "outputs": [
    {
     "data": {
      "text/plain": [
       "Text(0.5, 0, 'Max Probability')"
      ]
     },
     "execution_count": 89,
     "metadata": {},
     "output_type": "execute_result"
    },
    {
     "data": {
      "image/png": "[encoded data removed]",
      "text/plain": [
       "<Figure size 640x480 with 1 Axes>"
      ]
     },
     "metadata": {
      "needs_background": "light"
     },
     "output_type": "display_data"
    }
   ],
   "source": [
    "%matplotlib inline\n",
    "plt.figure(figsize=(8, 6), dpi=80)\n",
    "plt.hist(incorrect_classified_prob, density=False, bins=50)  # density=False would make counts\n",
    "plt.title('Prediction Probabilities Histogram - incorrect correct (P=0.05)')\n",
    "plt.ylabel('count')\n",
    "plt.xlabel('Max Probability')"
   ]
  },
  {
   "cell_type": "markdown",
   "metadata": {
    "id": "i_aLzDDSxwvr"
   },
   "source": [
    "## **P=0.1** "
   ]
  },
  {
   "cell_type": "code",
   "execution_count": 90,
   "metadata": {
    "colab": {
     "base_uri": "https://localhost:8080/"
    },
    "id": "w4YBobt9_Po4",
    "outputId": "e500c77c-4092-4a08-ba57-31d6654667db"
   },
   "outputs": [
    {
     "name": "stdout",
     "output_type": "stream",
     "text": [
      "Accuracy:  0.8841\n"
     ]
    }
   ],
   "source": [
    "correct_classified_prob,incorrect_classified_prob,accuracy = run_100_dropout_classifiers(0.1,mnist_fashion_model)\n",
    "accuracies.append(accuracy)\n",
    "confidence_level.append(np.average(incorrect_classified_prob))"
   ]
  },
  {
   "cell_type": "code",
   "execution_count": 91,
   "metadata": {
    "colab": {
     "base_uri": "https://localhost:8080/",
     "height": 462
    },
    "id": "dHUujjTU_gkn",
    "outputId": "cb4f4c57-9838-40c8-f56e-ad345836a5b9"
   },
   "outputs": [
    {
     "data": {
      "text/plain": [
       "Text(0.5, 0, 'Max Probability')"
      ]
     },
     "execution_count": 91,
     "metadata": {},
     "output_type": "execute_result"
    },
    {
     "data": {
      "image/png": "[encoded data removed]",
      "text/plain": [
       "<Figure size 640x480 with 1 Axes>"
      ]
     },
     "metadata": {
      "needs_background": "light"
     },
     "output_type": "display_data"
    }
   ],
   "source": [
    "%matplotlib inline\n",
    "plt.figure(figsize=(8, 6), dpi=80)\n",
    "plt.hist(correct_classified_prob, density=False, bins=50)  # density=False would make counts\n",
    "plt.title('Prediction Probabilities Histogram - correct (P=0.1)')\n",
    "plt.ylabel('count')\n",
    "plt.xlabel('Max Probability')"
   ]
  },
  {
   "cell_type": "code",
   "execution_count": 92,
   "metadata": {
    "colab": {
     "base_uri": "https://localhost:8080/",
     "height": 462
    },
    "id": "pARNcRVx_mxG",
    "outputId": "d6f5f14f-9d2e-4273-a525-e2525292aa2c"
   },
   "outputs": [
    {
     "data": {
      "text/plain": [
       "Text(0.5, 0, 'Max Probability')"
      ]
     },
     "execution_count": 92,
     "metadata": {},
     "output_type": "execute_result"
    },
    {
     "data": {
      "image/png": "[encoded data removed]",
      "text/plain": [
       "<Figure size 640x480 with 1 Axes>"
      ]
     },
     "metadata": {
      "needs_background": "light"
     },
     "output_type": "display_data"
    }
   ],
   "source": [
    "%matplotlib inline\n",
    "plt.figure(figsize=(8, 6), dpi=80)\n",
    "plt.hist(incorrect_classified_prob, density=False, bins=50)  # density=False would make counts\n",
    "plt.title('Prediction Probabilities Histogram - incorrect (P=0.1)')\n",
    "plt.ylabel('count')\n",
    "plt.xlabel('Max Probability')"
   ]
  },
  {
   "cell_type": "markdown",
   "metadata": {
    "id": "byV4x--_xwvs"
   },
   "source": [
    "## **P=0.2** "
   ]
  },
  {
   "cell_type": "code",
   "execution_count": 93,
   "metadata": {
    "colab": {
     "base_uri": "https://localhost:8080/"
    },
    "id": "ga4dsQOXAPLu",
    "outputId": "fada5fb0-97d0-4120-8f5d-174afdf68e38"
   },
   "outputs": [
    {
     "name": "stdout",
     "output_type": "stream",
     "text": [
      "Accuracy:  0.8864\n"
     ]
    }
   ],
   "source": [
    "correct_classified_prob,incorrect_classified_prob,accuracy = run_100_dropout_classifiers(0.2,mnist_fashion_model)\n",
    "accuracies.append(accuracy)\n",
    "confidence_level.append(np.average(incorrect_classified_prob))"
   ]
  },
  {
   "cell_type": "code",
   "execution_count": 94,
   "metadata": {
    "colab": {
     "base_uri": "https://localhost:8080/",
     "height": 462
    },
    "id": "YRGWQbxVxwvr",
    "outputId": "5541d887-7d83-4c90-ac67-e5f8e36624b5"
   },
   "outputs": [
    {
     "data": {
      "text/plain": [
       "Text(0.5, 0, 'Max Probability')"
      ]
     },
     "execution_count": 94,
     "metadata": {},
     "output_type": "execute_result"
    },
    {
     "data": {
      "image/png": "[encoded data removed]",
      "text/plain": [
       "<Figure size 640x480 with 1 Axes>"
      ]
     },
     "metadata": {
      "needs_background": "light"
     },
     "output_type": "display_data"
    }
   ],
   "source": [
    "%matplotlib inline\n",
    "plt.figure(figsize=(8, 6), dpi=80)\n",
    "plt.hist(correct_classified_prob, density=False, bins=50)  # density=False would make counts\n",
    "plt.title('Prediction Probabilities Histogram - correct (P=0.2)')\n",
    "plt.ylabel('count')\n",
    "plt.xlabel('Max Probability')"
   ]
  },
  {
   "cell_type": "code",
   "execution_count": 95,
   "metadata": {
    "colab": {
     "base_uri": "https://localhost:8080/",
     "height": 462
    },
    "id": "ibx6wgLyxwvr",
    "outputId": "ee6f6ca7-6807-455d-eda4-f531ed2d012b"
   },
   "outputs": [
    {
     "data": {
      "text/plain": [
       "Text(0.5, 0, 'Max Probability')"
      ]
     },
     "execution_count": 95,
     "metadata": {},
     "output_type": "execute_result"
    },
    {
     "data": {
      "image/png": "[encoded data removed]",
      "text/plain": [
       "<Figure size 640x480 with 1 Axes>"
      ]
     },
     "metadata": {
      "needs_background": "light"
     },
     "output_type": "display_data"
    }
   ],
   "source": [
    "%matplotlib inline\n",
    "plt.figure(figsize=(8, 6), dpi=80)\n",
    "plt.hist(incorrect_classified_prob, density=False, bins=50)  # density=False would make counts\n",
    "plt.title('Prediction Probabilities Histogram - incorrect correct (P=0.2')\n",
    "plt.ylabel('count')\n",
    "plt.xlabel('Max Probability')"
   ]
  },
  {
   "cell_type": "markdown",
   "metadata": {
    "id": "BdTcnojcxwvt"
   },
   "source": [
    "## **P=0.3** "
   ]
  },
  {
   "cell_type": "code",
   "execution_count": 96,
   "metadata": {
    "colab": {
     "base_uri": "https://localhost:8080/"
    },
    "id": "y9lNNYatAB64",
    "outputId": "5ec0ddcf-9b35-4e7b-c21a-9bd2e63bc6ef"
   },
   "outputs": [
    {
     "name": "stdout",
     "output_type": "stream",
     "text": [
      "Accuracy:  0.8851\n"
     ]
    }
   ],
   "source": [
    "correct_classified_prob,incorrect_classified_prob,accuracy = run_100_dropout_classifiers(0.3,mnist_fashion_model)\n",
    "accuracies.append(accuracy)\n",
    "confidence_level.append(np.average(incorrect_classified_prob))"
   ]
  },
  {
   "cell_type": "code",
   "execution_count": 97,
   "metadata": {
    "colab": {
     "base_uri": "https://localhost:8080/",
     "height": 462
    },
    "id": "YvGj42Wexwvr",
    "outputId": "43deae28-84df-477a-9ea9-a442db817fb0"
   },
   "outputs": [
    {
     "data": {
      "text/plain": [
       "Text(0.5, 0, 'Max Probability')"
      ]
     },
     "execution_count": 97,
     "metadata": {},
     "output_type": "execute_result"
    },
    {
     "data": {
      "image/png": "[encoded data removed]",
      "text/plain": [
       "<Figure size 640x480 with 1 Axes>"
      ]
     },
     "metadata": {
      "needs_background": "light"
     },
     "output_type": "display_data"
    }
   ],
   "source": [
    "%matplotlib inline\n",
    "plt.figure(figsize=(8, 6), dpi=80)\n",
    "plt.hist(correct_classified_prob, density=False, bins=50)  # density=False would make counts\n",
    "plt.title('Prediction Probabilities Histogram - correct (P=0.3)')\n",
    "plt.ylabel('count')\n",
    "plt.xlabel('Max Probability')"
   ]
  },
  {
   "cell_type": "code",
   "execution_count": 98,
   "metadata": {
    "colab": {
     "base_uri": "https://localhost:8080/",
     "height": 462
    },
    "id": "kidDJoZ3xwvs",
    "outputId": "422a13ca-00d7-48ce-ed6d-7722278be834"
   },
   "outputs": [
    {
     "data": {
      "text/plain": [
       "Text(0.5, 0, 'Max Probability')"
      ]
     },
     "execution_count": 98,
     "metadata": {},
     "output_type": "execute_result"
    },
    {
     "data": {
      "image/png": "[encoded data removed]",
      "text/plain": [
       "<Figure size 640x480 with 1 Axes>"
      ]
     },
     "metadata": {
      "needs_background": "light"
     },
     "output_type": "display_data"
    }
   ],
   "source": [
    "%matplotlib inline\n",
    "plt.figure(figsize=(8, 6), dpi=80)\n",
    "plt.hist(incorrect_classified_prob, density=False, bins=50)  # density=False would make counts\n",
    "plt.title('Prediction Probabilities Histogram - incorrect (P=0.3)')\n",
    "plt.ylabel('count')\n",
    "plt.xlabel('Max Probability')"
   ]
  },
  {
   "cell_type": "markdown",
   "metadata": {
    "id": "yoMq5Mfmxwvu"
   },
   "source": [
    "## **P=0.4** "
   ]
  },
  {
   "cell_type": "code",
   "execution_count": 99,
   "metadata": {
    "colab": {
     "base_uri": "https://localhost:8080/"
    },
    "id": "FaxGjLyWFusm",
    "outputId": "e1bef7a1-0d4e-47b2-83ce-c65cb3438e42"
   },
   "outputs": [
    {
     "name": "stdout",
     "output_type": "stream",
     "text": [
      "Accuracy:  0.8835\n"
     ]
    }
   ],
   "source": [
    "correct_classified_prob,incorrect_classified_prob,accuracy = run_100_dropout_classifiers(0.4,mnist_fashion_model)\n",
    "accuracies.append(accuracy)\n",
    "confidence_level.append(np.average(incorrect_classified_prob))"
   ]
  },
  {
   "cell_type": "code",
   "execution_count": 100,
   "metadata": {
    "colab": {
     "base_uri": "https://localhost:8080/",
     "height": 462
    },
    "id": "G1Oi0wfRxwvs",
    "outputId": "1a203d6c-0999-4a68-d0aa-c5e31bd749ea"
   },
   "outputs": [
    {
     "data": {
      "text/plain": [
       "Text(0.5, 0, 'Max Probability')"
      ]
     },
     "execution_count": 100,
     "metadata": {},
     "output_type": "execute_result"
    },
    {
     "data": {
      "image/png": "[encoded data removed]",
      "text/plain": [
       "<Figure size 640x480 with 1 Axes>"
      ]
     },
     "metadata": {
      "needs_background": "light"
     },
     "output_type": "display_data"
    }
   ],
   "source": [
    "%matplotlib inline\n",
    "plt.figure(figsize=(8, 6), dpi=80)\n",
    "plt.hist(correct_classified_prob, density=False, bins=50)  # density=False would make counts\n",
    "plt.title('Prediction Probabilities Histogram - correct (P=0.4)')\n",
    "plt.ylabel('count')\n",
    "plt.xlabel('Max Probability')"
   ]
  },
  {
   "cell_type": "code",
   "execution_count": 101,
   "metadata": {
    "colab": {
     "base_uri": "https://localhost:8080/",
     "height": 462
    },
    "id": "hYwpzLvcxwvt",
    "outputId": "9fd12869-e9be-409a-854e-c888c266453f"
   },
   "outputs": [
    {
     "data": {
      "text/plain": [
       "Text(0.5, 0, 'Max Probability')"
      ]
     },
     "execution_count": 101,
     "metadata": {},
     "output_type": "execute_result"
    },
    {
     "data": {
      "image/png": "[encoded data removed]",
      "text/plain": [
       "<Figure size 640x480 with 1 Axes>"
      ]
     },
     "metadata": {
      "needs_background": "light"
     },
     "output_type": "display_data"
    }
   ],
   "source": [
    "%matplotlib inline\n",
    "plt.figure(figsize=(8, 6), dpi=80)\n",
    "plt.hist(incorrect_classified_prob, density=False, bins=50)  # density=False would make counts\n",
    "plt.title('Prediction Probabilities Histogram - incorrect correct (P=0.4)')\n",
    "plt.ylabel('count')\n",
    "plt.xlabel('Max Probability')"
   ]
  },
  {
   "cell_type": "markdown",
   "metadata": {
    "id": "EOj3sS_rxwvu"
   },
   "source": [
    "## **P=0.5** "
   ]
  },
  {
   "cell_type": "code",
   "execution_count": 102,
   "metadata": {
    "colab": {
     "base_uri": "https://localhost:8080/"
    },
    "id": "vk3c2TbuGKqX",
    "outputId": "4c286920-63a8-4cdb-cbc6-471f64211d22"
   },
   "outputs": [
    {
     "name": "stdout",
     "output_type": "stream",
     "text": [
      "Accuracy:  0.8835\n"
     ]
    }
   ],
   "source": [
    "correct_classified_prob,incorrect_classified_prob,accuracy = run_100_dropout_classifiers(0.5,mnist_fashion_model)\n",
    "accuracies.append(accuracy)\n",
    "confidence_level.append(np.average(incorrect_classified_prob))"
   ]
  },
  {
   "cell_type": "code",
   "execution_count": 103,
   "metadata": {
    "colab": {
     "base_uri": "https://localhost:8080/",
     "height": 462
    },
    "id": "7P67QFOkxwvt",
    "outputId": "3787c8b2-6e93-428e-8f04-275f2050b9b5"
   },
   "outputs": [
    {
     "data": {
      "text/plain": [
       "Text(0.5, 0, 'Max Probability')"
      ]
     },
     "execution_count": 103,
     "metadata": {},
     "output_type": "execute_result"
    },
    {
     "data": {
      "image/png": "[encoded data removed]",
      "text/plain": [
       "<Figure size 640x480 with 1 Axes>"
      ]
     },
     "metadata": {
      "needs_background": "light"
     },
     "output_type": "display_data"
    }
   ],
   "source": [
    "%matplotlib inline\n",
    "plt.figure(figsize=(8, 6), dpi=80)\n",
    "plt.hist(correct_classified_prob, density=False, bins=50)  # density=False would make counts\n",
    "plt.title('Prediction Probabilities Histogram - correct (P=0.5)')\n",
    "plt.ylabel('count')\n",
    "plt.xlabel('Max Probability')"
   ]
  },
  {
   "cell_type": "code",
   "execution_count": 104,
   "metadata": {
    "colab": {
     "base_uri": "https://localhost:8080/",
     "height": 462
    },
    "id": "3u_D32agxwvt",
    "outputId": "e3e3e1f2-d4a6-47a8-ad37-950a748d80fd"
   },
   "outputs": [
    {
     "data": {
      "text/plain": [
       "Text(0.5, 0, 'Max Probability')"
      ]
     },
     "execution_count": 104,
     "metadata": {},
     "output_type": "execute_result"
    },
    {
     "data": {
      "image/png": "[encoded data removed]",
      "text/plain": [
       "<Figure size 640x480 with 1 Axes>"
      ]
     },
     "metadata": {
      "needs_background": "light"
     },
     "output_type": "display_data"
    }
   ],
   "source": [
    "%matplotlib inline\n",
    "plt.figure(figsize=(8, 6), dpi=80)\n",
    "plt.hist(incorrect_classified_prob, density=False, bins=50)  # density=False would make counts\n",
    "plt.title('Prediction Probabilities Histogram - incorrect (P=0.5)')\n",
    "plt.ylabel('count')\n",
    "plt.xlabel('Max Probability')"
   ]
  },
  {
   "cell_type": "markdown",
   "metadata": {
    "id": "hufLdbB0c9Iv"
   },
   "source": [
    "## **P=0.6** "
   ]
  },
  {
   "cell_type": "code",
   "execution_count": 105,
   "metadata": {
    "colab": {
     "base_uri": "https://localhost:8080/"
    },
    "id": "i6Jou8im1aib",
    "outputId": "19ba6049-eb71-4805-ce39-dd0af9c0288c"
   },
   "outputs": [
    {
     "name": "stdout",
     "output_type": "stream",
     "text": [
      "Accuracy:  0.8787\n"
     ]
    }
   ],
   "source": [
    "correct_classified_prob,incorrect_classified_prob,accuracy = run_100_dropout_classifiers(0.6,mnist_fashion_model)\n",
    "accuracies.append(accuracy)\n",
    "confidence_level.append(np.average(incorrect_classified_prob))"
   ]
  },
  {
   "cell_type": "code",
   "execution_count": 106,
   "metadata": {
    "colab": {
     "base_uri": "https://localhost:8080/",
     "height": 462
    },
    "id": "kR-y-1Fk1z4k",
    "outputId": "b73c4ff6-9fdd-4a9d-f1f0-f4fafaa68363"
   },
   "outputs": [
    {
     "data": {
      "text/plain": [
       "Text(0.5, 0, 'Max Probability')"
      ]
     },
     "execution_count": 106,
     "metadata": {},
     "output_type": "execute_result"
    },
    {
     "data": {
      "image/png": "[encoded data removed]",
      "text/plain": [
       "<Figure size 640x480 with 1 Axes>"
      ]
     },
     "metadata": {
      "needs_background": "light"
     },
     "output_type": "display_data"
    }
   ],
   "source": [
    "%matplotlib inline\n",
    "plt.figure(figsize=(8, 6), dpi=80)\n",
    "plt.hist(correct_classified_prob, density=False, bins=50)  # density=False would make counts\n",
    "plt.title('Prediction Probabilities Histogram - correct (P=0.6)')\n",
    "plt.ylabel('count')\n",
    "plt.xlabel('Max Probability')"
   ]
  },
  {
   "cell_type": "code",
   "execution_count": 107,
   "metadata": {
    "colab": {
     "base_uri": "https://localhost:8080/",
     "height": 462
    },
    "id": "uC1iL7Ws1u_e",
    "outputId": "bdbee0fc-22af-4620-aff6-411f5452264e"
   },
   "outputs": [
    {
     "data": {
      "text/plain": [
       "Text(0.5, 0, 'Max Probability')"
      ]
     },
     "execution_count": 107,
     "metadata": {},
     "output_type": "execute_result"
    },
    {
     "data": {
      "image/png": "[encoded data removed]",
      "text/plain": [
       "<Figure size 640x480 with 1 Axes>"
      ]
     },
     "metadata": {
      "needs_background": "light"
     },
     "output_type": "display_data"
    }
   ],
   "source": [
    "%matplotlib inline\n",
    "plt.figure(figsize=(8, 6), dpi=80)\n",
    "plt.hist(incorrect_classified_prob, density=False, bins=50)  # density=False would make counts\n",
    "plt.title('Prediction Probabilities Histogram - incorrect (P=0.6)')\n",
    "plt.ylabel('count')\n",
    "plt.xlabel('Max Probability')"
   ]
  },
  {
   "cell_type": "markdown",
   "metadata": {
    "id": "y_HAldCPc9Iw"
   },
   "source": [
    "## **P=0.7** "
   ]
  },
  {
   "cell_type": "code",
   "execution_count": 108,
   "metadata": {
    "colab": {
     "base_uri": "https://localhost:8080/"
    },
    "id": "SE6E4U-C1eQ_",
    "outputId": "6b9662cf-e5c5-4984-cec4-91845cc304d8"
   },
   "outputs": [
    {
     "name": "stdout",
     "output_type": "stream",
     "text": [
      "Accuracy:  0.8675\n"
     ]
    }
   ],
   "source": [
    "correct_classified_prob,incorrect_classified_prob,accuracy = run_100_dropout_classifiers(0.7,mnist_fashion_model)\n",
    "accuracies.append(accuracy)\n",
    "confidence_level.append(np.average(incorrect_classified_prob))"
   ]
  },
  {
   "cell_type": "code",
   "execution_count": 109,
   "metadata": {
    "colab": {
     "base_uri": "https://localhost:8080/",
     "height": 462
    },
    "id": "c3OarLIo10lO",
    "outputId": "44706ff3-9154-443c-d71c-1619063053dc"
   },
   "outputs": [
    {
     "data": {
      "text/plain": [
       "Text(0.5, 0, 'Max Probability')"
      ]
     },
     "execution_count": 109,
     "metadata": {},
     "output_type": "execute_result"
    },
    {
     "data": {
      "image/png": "[encoded data removed]",
      "text/plain": [
       "<Figure size 640x480 with 1 Axes>"
      ]
     },
     "metadata": {
      "needs_background": "light"
     },
     "output_type": "display_data"
    }
   ],
   "source": [
    "%matplotlib inline\n",
    "plt.figure(figsize=(8, 6), dpi=80)\n",
    "plt.hist(correct_classified_prob, density=False, bins=50)  # density=False would make counts\n",
    "plt.title('Prediction Probabilities Histogram - correct (P=0.7)')\n",
    "plt.ylabel('count')\n",
    "plt.xlabel('Max Probability')"
   ]
  },
  {
   "cell_type": "code",
   "execution_count": 110,
   "metadata": {
    "colab": {
     "base_uri": "https://localhost:8080/",
     "height": 462
    },
    "id": "QOM7rzZW1vod",
    "outputId": "811961cb-c570-48bc-b3d8-ddd458e84de8"
   },
   "outputs": [
    {
     "data": {
      "text/plain": [
       "Text(0.5, 0, 'Max Probability')"
      ]
     },
     "execution_count": 110,
     "metadata": {},
     "output_type": "execute_result"
    },
    {
     "data": {
      "image/png": "[encoded data removed]",
      "text/plain": [
       "<Figure size 640x480 with 1 Axes>"
      ]
     },
     "metadata": {
      "needs_background": "light"
     },
     "output_type": "display_data"
    }
   ],
   "source": [
    "%matplotlib inline\n",
    "plt.figure(figsize=(8, 6), dpi=80)\n",
    "plt.hist(incorrect_classified_prob, density=False, bins=50)  # density=False would make counts\n",
    "plt.title('Prediction Probabilities Histogram - incorrect (P=0.7)')\n",
    "plt.ylabel('count')\n",
    "plt.xlabel('Max Probability')"
   ]
  },
  {
   "cell_type": "markdown",
   "metadata": {
    "id": "ZOX5fDEhc9Iw"
   },
   "source": [
    "## **P=0.8** "
   ]
  },
  {
   "cell_type": "code",
   "execution_count": 111,
   "metadata": {
    "colab": {
     "base_uri": "https://localhost:8080/"
    },
    "id": "2GDkuP7C1eib",
    "outputId": "1e6f2b0c-0f35-47a2-9261-cb0114aa4cae"
   },
   "outputs": [
    {
     "name": "stdout",
     "output_type": "stream",
     "text": [
      "Accuracy:  0.8562\n"
     ]
    }
   ],
   "source": [
    "correct_classified_prob,incorrect_classified_prob,accuracy = run_100_dropout_classifiers(0.8,mnist_fashion_model)\n",
    "accuracies.append(accuracy)\n",
    "confidence_level.append(np.average(incorrect_classified_prob))"
   ]
  },
  {
   "cell_type": "code",
   "execution_count": 112,
   "metadata": {
    "colab": {
     "base_uri": "https://localhost:8080/",
     "height": 462
    },
    "id": "hoIfIaWD11W_",
    "outputId": "a4896d1b-ee2d-4a9d-9132-4be1affd6f3d"
   },
   "outputs": [
    {
     "data": {
      "text/plain": [
       "Text(0.5, 0, 'Max Probability')"
      ]
     },
     "execution_count": 112,
     "metadata": {},
     "output_type": "execute_result"
    },
    {
     "data": {
      "image/png": "[encoded data removed]",
      "text/plain": [
       "<Figure size 640x480 with 1 Axes>"
      ]
     },
     "metadata": {
      "needs_background": "light"
     },
     "output_type": "display_data"
    }
   ],
   "source": [
    "%matplotlib inline\n",
    "plt.figure(figsize=(8, 6), dpi=80)\n",
    "plt.hist(correct_classified_prob, density=False, bins=50)  # density=False would make counts\n",
    "plt.title('Prediction Probabilities Histogram - correct (P=0.8)')\n",
    "plt.ylabel('count')\n",
    "plt.xlabel('Max Probability')"
   ]
  },
  {
   "cell_type": "code",
   "execution_count": 113,
   "metadata": {
    "colab": {
     "base_uri": "https://localhost:8080/",
     "height": 462
    },
    "id": "AApfnInS1wVc",
    "outputId": "e5d15388-a75d-4514-8bc7-2888fbaa26a1"
   },
   "outputs": [
    {
     "data": {
      "text/plain": [
       "Text(0.5, 0, 'Max Probability')"
      ]
     },
     "execution_count": 113,
     "metadata": {},
     "output_type": "execute_result"
    },
    {
     "data": {
      "image/png": "[encoded data removed]",
      "text/plain": [
       "<Figure size 640x480 with 1 Axes>"
      ]
     },
     "metadata": {
      "needs_background": "light"
     },
     "output_type": "display_data"
    }
   ],
   "source": [
    "%matplotlib inline\n",
    "plt.figure(figsize=(8, 6), dpi=80)\n",
    "plt.hist(incorrect_classified_prob, density=False, bins=50)  # density=False would make counts\n",
    "plt.title('Prediction Probabilities Histogram - incorrect (P=0.8)')\n",
    "plt.ylabel('count')\n",
    "plt.xlabel('Max Probability')"
   ]
  },
  {
   "cell_type": "markdown",
   "metadata": {
    "id": "53od6RJ0c9Ix"
   },
   "source": [
    "## **P=0.9** "
   ]
  },
  {
   "cell_type": "code",
   "execution_count": 114,
   "metadata": {
    "colab": {
     "base_uri": "https://localhost:8080/"
    },
    "id": "AP7y-oYG1eyu",
    "outputId": "9d8e04e9-9e50-4f98-86a0-45749a6fb3b7"
   },
   "outputs": [
    {
     "name": "stdout",
     "output_type": "stream",
     "text": [
      "Accuracy:  0.796\n"
     ]
    }
   ],
   "source": [
    "correct_classified_prob,incorrect_classified_prob,accuracy = run_100_dropout_classifiers(0.9,mnist_fashion_model)\n",
    "accuracies.append(accuracy)\n",
    "confidence_level.append(np.average(incorrect_classified_prob))"
   ]
  },
  {
   "cell_type": "code",
   "execution_count": 115,
   "metadata": {
    "colab": {
     "base_uri": "https://localhost:8080/",
     "height": 462
    },
    "id": "T1TmUmjk12Kq",
    "outputId": "99143f01-7323-452d-9358-c31d0a20f3bd"
   },
   "outputs": [
    {
     "data": {
      "text/plain": [
       "Text(0.5, 0, 'Max Probability')"
      ]
     },
     "execution_count": 115,
     "metadata": {},
     "output_type": "execute_result"
    },
    {
     "data": {
      "image/png": "[encoded data removed]",
      "text/plain": [
       "<Figure size 640x480 with 1 Axes>"
      ]
     },
     "metadata": {
      "needs_background": "light"
     },
     "output_type": "display_data"
    }
   ],
   "source": [
    "%matplotlib inline\n",
    "plt.figure(figsize=(8, 6), dpi=80)\n",
    "plt.hist(correct_classified_prob, density=False, bins=50)  # density=False would make counts\n",
    "plt.title('Prediction Probabilities Histogram - correct (P=0.9)')\n",
    "plt.ylabel('count')\n",
    "plt.xlabel('Max Probability')"
   ]
  },
  {
   "cell_type": "code",
   "execution_count": 116,
   "metadata": {
    "colab": {
     "base_uri": "https://localhost:8080/",
     "height": 462
    },
    "id": "0dbx0oM21w-V",
    "outputId": "ce16241b-18b4-4bae-ffad-669d8cb5d2c7"
   },
   "outputs": [
    {
     "data": {
      "text/plain": [
       "Text(0.5, 0, 'Max Probability')"
      ]
     },
     "execution_count": 116,
     "metadata": {},
     "output_type": "execute_result"
    },
    {
     "data": {
      "image/png": "[encoded data removed]",
      "text/plain": [
       "<Figure size 640x480 with 1 Axes>"
      ]
     },
     "metadata": {
      "needs_background": "light"
     },
     "output_type": "display_data"
    }
   ],
   "source": [
    "%matplotlib inline\n",
    "plt.figure(figsize=(8, 6), dpi=80)\n",
    "plt.hist(incorrect_classified_prob, density=False, bins=50)  # density=False would make counts\n",
    "plt.title('Prediction Probabilities Histogram - incorrect (P=0.9)')\n",
    "plt.ylabel('count')\n",
    "plt.xlabel('Max Probability')"
   ]
  },
  {
   "cell_type": "markdown",
   "metadata": {
    "id": "uFFDWp_Jc9Ix"
   },
   "source": [
    "## **P=0.95** "
   ]
  },
  {
   "cell_type": "markdown",
   "metadata": {
    "id": "OMQ8XUkpG8SW"
   },
   "source": [
    "**Analysis:**"
   ]
  },
  {
   "cell_type": "code",
   "execution_count": 117,
   "metadata": {
    "colab": {
     "base_uri": "https://localhost:8080/"
    },
    "id": "qLjPePfOc9Ix",
    "outputId": "922dbec1-6de9-4ac1-a4cb-5ffbfdbd3459"
   },
   "outputs": [
    {
     "name": "stdout",
     "output_type": "stream",
     "text": [
      "Accuracy:  0.5836\n"
     ]
    }
   ],
   "source": [
    "correct_classified_prob,incorrect_classified_prob,accuracy = run_100_dropout_classifiers(0.95,mnist_fashion_model)\n",
    "accuracies.append(accuracy)\n",
    "confidence_level.append(np.average(incorrect_classified_prob))"
   ]
  },
  {
   "cell_type": "code",
   "execution_count": 118,
   "metadata": {
    "colab": {
     "base_uri": "https://localhost:8080/",
     "height": 462
    },
    "id": "C8kxpRLLc9Iy",
    "outputId": "92df5ac4-ec62-4393-ea00-db4e832a6344"
   },
   "outputs": [
    {
     "data": {
      "text/plain": [
       "Text(0.5, 0, 'Max Probability')"
      ]
     },
     "execution_count": 118,
     "metadata": {},
     "output_type": "execute_result"
    },
    {
     "data": {
      "image/png": "[encoded data removed]",
      "text/plain": [
       "<Figure size 640x480 with 1 Axes>"
      ]
     },
     "metadata": {
      "needs_background": "light"
     },
     "output_type": "display_data"
    }
   ],
   "source": [
    "%matplotlib inline\n",
    "plt.figure(figsize=(8, 6), dpi=80)\n",
    "plt.hist(correct_classified_prob, density=False, bins=50)  # density=False would make counts\n",
    "plt.title('Prediction Probabilities Histogram - correct (P=0.95)')\n",
    "plt.ylabel('count')\n",
    "plt.xlabel('Max Probability')"
   ]
  },
  {
   "cell_type": "code",
   "execution_count": 119,
   "metadata": {
    "colab": {
     "base_uri": "https://localhost:8080/",
     "height": 462
    },
    "id": "LnoGFUzUc9Iy",
    "outputId": "e103fb55-f60a-415b-bc2b-3d74d5044cf7"
   },
   "outputs": [
    {
     "data": {
      "text/plain": [
       "Text(0.5, 0, 'Max Probability')"
      ]
     },
     "execution_count": 119,
     "metadata": {},
     "output_type": "execute_result"
    },
    {
     "data": {
      "image/png": "[encoded data removed]",
      "text/plain": [
       "<Figure size 640x480 with 1 Axes>"
      ]
     },
     "metadata": {
      "needs_background": "light"
     },
     "output_type": "display_data"
    }
   ],
   "source": [
    "%matplotlib inline\n",
    "plt.figure(figsize=(8, 6), dpi=80)\n",
    "plt.hist(incorrect_classified_prob, density=False, bins=50)  # density=False would make counts\n",
    "plt.title('Prediction Probabilities Histogram - incorrect (P=0.95)')\n",
    "plt.ylabel('count')\n",
    "plt.xlabel('Max Probability')"
   ]
  },
  {
   "cell_type": "markdown",
   "metadata": {
    "id": "vX8VM9xMc9Iy"
   },
   "source": [
    "## **P=0.99** "
   ]
  },
  {
   "cell_type": "code",
   "execution_count": 120,
   "metadata": {
    "colab": {
     "base_uri": "https://localhost:8080/"
    },
    "id": "clYG9Takc9Iy",
    "outputId": "fcbf717c-b1c8-49c9-a1ed-1d99f6b93489"
   },
   "outputs": [
    {
     "name": "stdout",
     "output_type": "stream",
     "text": [
      "Accuracy:  0.2932\n"
     ]
    }
   ],
   "source": [
    "correct_classified_prob,incorrect_classified_prob,accuracy = run_100_dropout_classifiers(0.99,mnist_fashion_model)\n",
    "accuracies.append(accuracy)\n",
    "confidence_level.append(np.average(incorrect_classified_prob))"
   ]
  },
  {
   "cell_type": "code",
   "execution_count": 121,
   "metadata": {
    "colab": {
     "base_uri": "https://localhost:8080/",
     "height": 462
    },
    "id": "KjAaRKDMc9Iy",
    "outputId": "d7472680-1c4c-4c02-fc63-23ad0d67dc35"
   },
   "outputs": [
    {
     "data": {
      "text/plain": [
       "Text(0.5, 0, 'Max Probability')"
      ]
     },
     "execution_count": 121,
     "metadata": {},
     "output_type": "execute_result"
    },
    {
     "data": {
      "image/png": "[encoded data removed]",
      "text/plain": [
       "<Figure size 640x480 with 1 Axes>"
      ]
     },
     "metadata": {
      "needs_background": "light"
     },
     "output_type": "display_data"
    }
   ],
   "source": [
    "%matplotlib inline\n",
    "plt.figure(figsize=(8, 6), dpi=80)\n",
    "plt.hist(correct_classified_prob, density=False, bins=50)  # density=False would make counts\n",
    "plt.title('Prediction Probabilities Histogram - correct (P=0.99)')\n",
    "plt.ylabel('count')\n",
    "plt.xlabel('Max Probability')"
   ]
  },
  {
   "cell_type": "code",
   "execution_count": 122,
   "metadata": {
    "colab": {
     "base_uri": "https://localhost:8080/",
     "height": 462
    },
    "id": "6NO8a-5zc9Iz",
    "outputId": "a2dbf916-801c-44fe-e666-184faf693fe5"
   },
   "outputs": [
    {
     "data": {
      "text/plain": [
       "Text(0.5, 0, 'Max Probability')"
      ]
     },
     "execution_count": 122,
     "metadata": {},
     "output_type": "execute_result"
    },
    {
     "data": {
      "image/png": "[encoded data removed]",
      "text/plain": [
       "<Figure size 640x480 with 1 Axes>"
      ]
     },
     "metadata": {
      "needs_background": "light"
     },
     "output_type": "display_data"
    }
   ],
   "source": [
    "%matplotlib inline\n",
    "plt.figure(figsize=(8, 6), dpi=80)\n",
    "plt.hist(incorrect_classified_prob, density=False, bins=50)  # density=False would make counts\n",
    "plt.title('Prediction Probabilities Histogram - incorrect (P=0.99)')\n",
    "plt.ylabel('count')\n",
    "plt.xlabel('Max Probability')"
   ]
  },
  {
   "cell_type": "code",
   "execution_count": 124,
   "metadata": {
    "colab": {
     "base_uri": "https://localhost:8080/",
     "height": 295
    },
    "id": "uellPRYbSWVE",
    "outputId": "52051e38-a86e-4586-dff6-ed9a7fc95ee0"
   },
   "outputs": [
    {
     "data": {
      "image/png": "[encoded data removed]",
      "text/plain": [
       "<Figure size 432x288 with 1 Axes>"
      ]
     },
     "metadata": {
      "needs_background": "light"
     },
     "output_type": "display_data"
    }
   ],
   "source": [
    "fig, ax = plt.subplots()\n",
    "fig.canvas.draw()\n",
    "plt.plot(accuracies, label = \"accuracy\")\n",
    "plt.xlabel(\"Dropout rate - P\")\n",
    "plt.ylabel(\"Accuracy\")\n",
    "labels = ['0.01','0.05','0.1','0.2','0.3','0.4','0.5','0.6','0.7','0.8','0.9', '0.95', '0.99']\n",
    "plt.xticks(np.arange(0, 13, 1.0))\n",
    "ax.set_xticklabels(labels)\n",
    "plt.title('Accuracy vs Droput rate')\n",
    "plt.legend()\n",
    "plt.show()"
   ]
  },
  {
   "cell_type": "code",
   "execution_count": 125,
   "metadata": {
    "colab": {
     "base_uri": "https://localhost:8080/",
     "height": 295
    },
    "id": "XlArKeizT0SS",
    "outputId": "4cbe7930-2869-4d4c-c95e-795ab28687ac"
   },
   "outputs": [
    {
     "data": {
      "image/png": "[encoded data removed]",
      "text/plain": [
       "<Figure size 432x288 with 1 Axes>"
      ]
     },
     "metadata": {
      "needs_background": "light"
     },
     "output_type": "display_data"
    }
   ],
   "source": [
    "fig, ax = plt.subplots()\n",
    "fig.canvas.draw()\n",
    "plt.plot(confidence_level, label = \"confidence_level(False perdiction)\")\n",
    "plt.xlabel(\"Dropout rate - P\")\n",
    "plt.ylabel(\"confidence_level - False perdictions\")\n",
    "labels = ['0.01','0.05','0.1','0.2','0.3','0.4','0.5','0.6','0.7','0.8','0.9', '0.95', '0.99']\n",
    "plt.xticks(np.arange(0, 13, 1.0))\n",
    "ax.set_xticklabels(labels)\n",
    "plt.title('confidence_level(False perdiction) vs Droput rate')\n",
    "plt.legend()\n",
    "plt.show()"
   ]
  },
  {
   "cell_type": "markdown",
   "metadata": {
    "id": "nFW3ztgcxwvn"
   },
   "source": [
    "## **The conclusion is self evident - once we increase p, the confidence of the classifier's votes on wrong predictions is decreasing together with the confidence on right predictions** "
   ]
  },
  {
   "cell_type": "markdown",
   "metadata": {
    "id": "UF66v5-txwvo"
   },
   "source": [
    "## **However, it is not symetrical and the benefit outgrows the damage. Based on trial and error, optimal p is around 0.6-0.8 in our opinion** "
   ]
  }
 ],
 "metadata": {
  "colab": {
   "collapsed_sections": [],
   "name": "DL_ex2_finalV.ipynb",
   "provenance": []
  },
  "kernelspec": {
   "display_name": "Python 3",
   "language": "python",
   "name": "python3"
  },
  "language_info": {
   "codemirror_mode": {
    "name": "ipython",
    "version": 3
   },
   "file_extension": ".py",
   "mimetype": "text/x-python",
   "name": "python",
   "nbconvert_exporter": "python",
   "pygments_lexer": "ipython3",
   "version": "3.8.5"
  }
 },
 "nbformat": 4,
 "nbformat_minor": 1
}
